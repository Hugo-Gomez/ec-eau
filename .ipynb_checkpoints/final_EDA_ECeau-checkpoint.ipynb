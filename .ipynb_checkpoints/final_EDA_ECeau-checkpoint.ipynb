{
 "cells": [
  {
   "cell_type": "code",
   "execution_count": 1,
   "metadata": {},
   "outputs": [],
   "source": [
    "#importer les modules necessaires\n",
    "import pandas as pd\n",
    "import seaborn as sns\n",
    "import matplotlib.pyplot as plt\n",
    "import warnings as wng\n",
    "\n",
    "#afficher des graph avec matplotlib\n",
    "%matplotlib inline\n",
    "\n",
    "#masquer les warning\n",
    "wng.filterwarnings('ignore')"
   ]
  },
  {
   "cell_type": "code",
   "execution_count": 2,
   "metadata": {},
   "outputs": [
    {
     "data": {
      "text/html": [
       "<div>\n",
       "<style scoped>\n",
       "    .dataframe tbody tr th:only-of-type {\n",
       "        vertical-align: middle;\n",
       "    }\n",
       "\n",
       "    .dataframe tbody tr th {\n",
       "        vertical-align: top;\n",
       "    }\n",
       "\n",
       "    .dataframe thead th {\n",
       "        text-align: right;\n",
       "    }\n",
       "</style>\n",
       "<table border=\"1\" class=\"dataframe\">\n",
       "  <thead>\n",
       "    <tr style=\"text-align: right;\">\n",
       "      <th></th>\n",
       "      <th>mail</th>\n",
       "      <th>age</th>\n",
       "      <th>sexe</th>\n",
       "      <th>ville</th>\n",
       "      <th>cp</th>\n",
       "      <th>freqDouche</th>\n",
       "      <th>tempsDouche</th>\n",
       "      <th>debitDouche</th>\n",
       "      <th>freqBain</th>\n",
       "      <th>rempBain</th>\n",
       "      <th>...</th>\n",
       "      <th>eauPlante</th>\n",
       "      <th>freqPlante</th>\n",
       "      <th>voiture</th>\n",
       "      <th>methVoiture</th>\n",
       "      <th>freqVoiture</th>\n",
       "      <th>piscine</th>\n",
       "      <th>freqPiscine</th>\n",
       "      <th>volumePiscine</th>\n",
       "      <th>etiquette</th>\n",
       "      <th>bouteille</th>\n",
       "    </tr>\n",
       "    <tr>\n",
       "      <th>id</th>\n",
       "      <th></th>\n",
       "      <th></th>\n",
       "      <th></th>\n",
       "      <th></th>\n",
       "      <th></th>\n",
       "      <th></th>\n",
       "      <th></th>\n",
       "      <th></th>\n",
       "      <th></th>\n",
       "      <th></th>\n",
       "      <th></th>\n",
       "      <th></th>\n",
       "      <th></th>\n",
       "      <th></th>\n",
       "      <th></th>\n",
       "      <th></th>\n",
       "      <th></th>\n",
       "      <th></th>\n",
       "      <th></th>\n",
       "      <th></th>\n",
       "      <th></th>\n",
       "    </tr>\n",
       "  </thead>\n",
       "  <tbody>\n",
       "    <tr>\n",
       "      <th>69</th>\n",
       "      <td>hugo.gomez@hetic.net</td>\n",
       "      <td>21</td>\n",
       "      <td>homme</td>\n",
       "      <td>Saint Leu la Foret</td>\n",
       "      <td>95320</td>\n",
       "      <td>7</td>\n",
       "      <td>13</td>\n",
       "      <td>fort</td>\n",
       "      <td>0</td>\n",
       "      <td>oui</td>\n",
       "      <td>...</td>\n",
       "      <td>robinet</td>\n",
       "      <td>15</td>\n",
       "      <td>non</td>\n",
       "      <td>manuel</td>\n",
       "      <td>1</td>\n",
       "      <td>non</td>\n",
       "      <td>non</td>\n",
       "      <td>0</td>\n",
       "      <td>non</td>\n",
       "      <td>bouteille</td>\n",
       "    </tr>\n",
       "    <tr>\n",
       "      <th>70</th>\n",
       "      <td>bocquillon.pierre@orange.fr</td>\n",
       "      <td>22</td>\n",
       "      <td>homme</td>\n",
       "      <td>MONTREUIL</td>\n",
       "      <td>93100</td>\n",
       "      <td>7</td>\n",
       "      <td>3</td>\n",
       "      <td>moyen</td>\n",
       "      <td>0</td>\n",
       "      <td>oui</td>\n",
       "      <td>...</td>\n",
       "      <td>robinet</td>\n",
       "      <td>0</td>\n",
       "      <td>oui</td>\n",
       "      <td>automatique</td>\n",
       "      <td>1</td>\n",
       "      <td>non</td>\n",
       "      <td>non</td>\n",
       "      <td>0</td>\n",
       "      <td>non</td>\n",
       "      <td>robinet</td>\n",
       "    </tr>\n",
       "    <tr>\n",
       "      <th>71</th>\n",
       "      <td>jp.marceaux@gmail.com</td>\n",
       "      <td>29</td>\n",
       "      <td>homme</td>\n",
       "      <td>amiens</td>\n",
       "      <td>80000</td>\n",
       "      <td>7</td>\n",
       "      <td>5</td>\n",
       "      <td>fort</td>\n",
       "      <td>1</td>\n",
       "      <td>oui</td>\n",
       "      <td>...</td>\n",
       "      <td>robinet</td>\n",
       "      <td>0</td>\n",
       "      <td>oui</td>\n",
       "      <td>manuel</td>\n",
       "      <td>2</td>\n",
       "      <td>non</td>\n",
       "      <td>non</td>\n",
       "      <td>0</td>\n",
       "      <td>non</td>\n",
       "      <td>bouteille</td>\n",
       "    </tr>\n",
       "    <tr>\n",
       "      <th>72</th>\n",
       "      <td>marie.elise.morena@gmail.com</td>\n",
       "      <td>26</td>\n",
       "      <td>femme</td>\n",
       "      <td>Albert</td>\n",
       "      <td>80300</td>\n",
       "      <td>7</td>\n",
       "      <td>15</td>\n",
       "      <td>moyen</td>\n",
       "      <td>0</td>\n",
       "      <td>oui</td>\n",
       "      <td>...</td>\n",
       "      <td>pluie</td>\n",
       "      <td>8</td>\n",
       "      <td>oui</td>\n",
       "      <td>automatique</td>\n",
       "      <td>1</td>\n",
       "      <td>non</td>\n",
       "      <td>non</td>\n",
       "      <td>0</td>\n",
       "      <td>oui</td>\n",
       "      <td>bouteille</td>\n",
       "    </tr>\n",
       "    <tr>\n",
       "      <th>74</th>\n",
       "      <td>radioman@free.fr</td>\n",
       "      <td>56</td>\n",
       "      <td>homme</td>\n",
       "      <td>Villeneuve en Montagne</td>\n",
       "      <td>71390</td>\n",
       "      <td>7</td>\n",
       "      <td>8</td>\n",
       "      <td>moyen</td>\n",
       "      <td>0</td>\n",
       "      <td>oui</td>\n",
       "      <td>...</td>\n",
       "      <td>pluie</td>\n",
       "      <td>10</td>\n",
       "      <td>oui</td>\n",
       "      <td>manuel</td>\n",
       "      <td>0</td>\n",
       "      <td>non</td>\n",
       "      <td>non</td>\n",
       "      <td>0</td>\n",
       "      <td>oui</td>\n",
       "      <td>robinet</td>\n",
       "    </tr>\n",
       "    <tr>\n",
       "      <th>75</th>\n",
       "      <td>clem.pidancier@gmail.com</td>\n",
       "      <td>21</td>\n",
       "      <td>femme</td>\n",
       "      <td>Montreuil</td>\n",
       "      <td>93100</td>\n",
       "      <td>7</td>\n",
       "      <td>25</td>\n",
       "      <td>moyen</td>\n",
       "      <td>0</td>\n",
       "      <td>oui</td>\n",
       "      <td>...</td>\n",
       "      <td>robinet</td>\n",
       "      <td>0</td>\n",
       "      <td>non</td>\n",
       "      <td>automatique</td>\n",
       "      <td>0</td>\n",
       "      <td>non</td>\n",
       "      <td>non</td>\n",
       "      <td>0</td>\n",
       "      <td>oui</td>\n",
       "      <td>robinet</td>\n",
       "    </tr>\n",
       "    <tr>\n",
       "      <th>76</th>\n",
       "      <td>f.pidancier@free.fr</td>\n",
       "      <td>54</td>\n",
       "      <td>femme</td>\n",
       "      <td>BRIIS-sous-Forges</td>\n",
       "      <td>91640</td>\n",
       "      <td>7</td>\n",
       "      <td>10</td>\n",
       "      <td>moyen</td>\n",
       "      <td>0</td>\n",
       "      <td>oui</td>\n",
       "      <td>...</td>\n",
       "      <td>robinet</td>\n",
       "      <td>6</td>\n",
       "      <td>oui</td>\n",
       "      <td>automatique</td>\n",
       "      <td>0</td>\n",
       "      <td>non</td>\n",
       "      <td>non</td>\n",
       "      <td>0</td>\n",
       "      <td>oui</td>\n",
       "      <td>robinet</td>\n",
       "    </tr>\n",
       "    <tr>\n",
       "      <th>77</th>\n",
       "      <td>marianne.pessin@gmail.com</td>\n",
       "      <td>58</td>\n",
       "      <td>femme</td>\n",
       "      <td>CHAUFFAILLES</td>\n",
       "      <td>71170</td>\n",
       "      <td>6</td>\n",
       "      <td>10</td>\n",
       "      <td>fort</td>\n",
       "      <td>0</td>\n",
       "      <td>oui</td>\n",
       "      <td>...</td>\n",
       "      <td>robinet</td>\n",
       "      <td>3</td>\n",
       "      <td>oui</td>\n",
       "      <td>automatique</td>\n",
       "      <td>0</td>\n",
       "      <td>non</td>\n",
       "      <td>non</td>\n",
       "      <td>0</td>\n",
       "      <td>oui</td>\n",
       "      <td>bouteille</td>\n",
       "    </tr>\n",
       "    <tr>\n",
       "      <th>78</th>\n",
       "      <td>helene.couybes@gmail.com</td>\n",
       "      <td>27</td>\n",
       "      <td>femme</td>\n",
       "      <td>Palaiseau</td>\n",
       "      <td>91120</td>\n",
       "      <td>7</td>\n",
       "      <td>15</td>\n",
       "      <td>moyen</td>\n",
       "      <td>0</td>\n",
       "      <td>oui</td>\n",
       "      <td>...</td>\n",
       "      <td>robinet</td>\n",
       "      <td>0</td>\n",
       "      <td>oui</td>\n",
       "      <td>automatique</td>\n",
       "      <td>0</td>\n",
       "      <td>non</td>\n",
       "      <td>non</td>\n",
       "      <td>0</td>\n",
       "      <td>oui</td>\n",
       "      <td>bouteille</td>\n",
       "    </tr>\n",
       "    <tr>\n",
       "      <th>79</th>\n",
       "      <td>juanjoseco@free.fr</td>\n",
       "      <td>51</td>\n",
       "      <td>homme</td>\n",
       "      <td>Paris</td>\n",
       "      <td>75003</td>\n",
       "      <td>7</td>\n",
       "      <td>15</td>\n",
       "      <td>fort</td>\n",
       "      <td>0</td>\n",
       "      <td>oui</td>\n",
       "      <td>...</td>\n",
       "      <td>robinet</td>\n",
       "      <td>5</td>\n",
       "      <td>non</td>\n",
       "      <td>automatique</td>\n",
       "      <td>0</td>\n",
       "      <td>non</td>\n",
       "      <td>non</td>\n",
       "      <td>0</td>\n",
       "      <td>non</td>\n",
       "      <td>robinet</td>\n",
       "    </tr>\n",
       "    <tr>\n",
       "      <th>80</th>\n",
       "      <td>cathyveyradier@hotmail.fr</td>\n",
       "      <td>45</td>\n",
       "      <td>femme</td>\n",
       "      <td>Paris</td>\n",
       "      <td>75010</td>\n",
       "      <td>14</td>\n",
       "      <td>15</td>\n",
       "      <td>moyen</td>\n",
       "      <td>0</td>\n",
       "      <td>oui</td>\n",
       "      <td>...</td>\n",
       "      <td>robinet</td>\n",
       "      <td>0</td>\n",
       "      <td>oui</td>\n",
       "      <td>automatique</td>\n",
       "      <td>0</td>\n",
       "      <td>non</td>\n",
       "      <td>non</td>\n",
       "      <td>0</td>\n",
       "      <td>oui</td>\n",
       "      <td>bouteille</td>\n",
       "    </tr>\n",
       "    <tr>\n",
       "      <th>81</th>\n",
       "      <td>simon.pessin@gmail.com</td>\n",
       "      <td>31</td>\n",
       "      <td>homme</td>\n",
       "      <td>Chauffailles</td>\n",
       "      <td>71170</td>\n",
       "      <td>7</td>\n",
       "      <td>15</td>\n",
       "      <td>faible</td>\n",
       "      <td>0</td>\n",
       "      <td>oui</td>\n",
       "      <td>...</td>\n",
       "      <td>robinet</td>\n",
       "      <td>0</td>\n",
       "      <td>oui</td>\n",
       "      <td>automatique</td>\n",
       "      <td>1</td>\n",
       "      <td>non</td>\n",
       "      <td>non</td>\n",
       "      <td>0</td>\n",
       "      <td>oui</td>\n",
       "      <td>robinet</td>\n",
       "    </tr>\n",
       "    <tr>\n",
       "      <th>82</th>\n",
       "      <td>lola-francois@orange.fr</td>\n",
       "      <td>25</td>\n",
       "      <td>femme</td>\n",
       "      <td>Nice</td>\n",
       "      <td>6300</td>\n",
       "      <td>5</td>\n",
       "      <td>5</td>\n",
       "      <td>moyen</td>\n",
       "      <td>0</td>\n",
       "      <td>oui</td>\n",
       "      <td>...</td>\n",
       "      <td>robinet</td>\n",
       "      <td>0</td>\n",
       "      <td>oui</td>\n",
       "      <td>manuel</td>\n",
       "      <td>0</td>\n",
       "      <td>non</td>\n",
       "      <td>non</td>\n",
       "      <td>0</td>\n",
       "      <td>oui</td>\n",
       "      <td>robinet</td>\n",
       "    </tr>\n",
       "    <tr>\n",
       "      <th>83</th>\n",
       "      <td>annie.guillemin5@orange.fr</td>\n",
       "      <td>48</td>\n",
       "      <td>femme</td>\n",
       "      <td>Dijon</td>\n",
       "      <td>21000</td>\n",
       "      <td>7</td>\n",
       "      <td>10</td>\n",
       "      <td>moyen</td>\n",
       "      <td>0</td>\n",
       "      <td>oui</td>\n",
       "      <td>...</td>\n",
       "      <td>pluie</td>\n",
       "      <td>5</td>\n",
       "      <td>oui</td>\n",
       "      <td>automatique</td>\n",
       "      <td>0</td>\n",
       "      <td>non</td>\n",
       "      <td>non</td>\n",
       "      <td>0</td>\n",
       "      <td>oui</td>\n",
       "      <td>robinet</td>\n",
       "    </tr>\n",
       "    <tr>\n",
       "      <th>84</th>\n",
       "      <td>jeronimodiparigi@free.fr</td>\n",
       "      <td>49</td>\n",
       "      <td>homme</td>\n",
       "      <td>Paris</td>\n",
       "      <td>75003</td>\n",
       "      <td>7</td>\n",
       "      <td>6</td>\n",
       "      <td>faible</td>\n",
       "      <td>0</td>\n",
       "      <td>oui</td>\n",
       "      <td>...</td>\n",
       "      <td>robinet</td>\n",
       "      <td>4</td>\n",
       "      <td>non</td>\n",
       "      <td>automatique</td>\n",
       "      <td>0</td>\n",
       "      <td>non</td>\n",
       "      <td>non</td>\n",
       "      <td>0</td>\n",
       "      <td>oui</td>\n",
       "      <td>robinet</td>\n",
       "    </tr>\n",
       "    <tr>\n",
       "      <th>555</th>\n",
       "      <td>marina.lequeux@gmail.com</td>\n",
       "      <td>21</td>\n",
       "      <td>femme</td>\n",
       "      <td>amiens</td>\n",
       "      <td>80000</td>\n",
       "      <td>7</td>\n",
       "      <td>5</td>\n",
       "      <td>moyen</td>\n",
       "      <td>0</td>\n",
       "      <td>oui</td>\n",
       "      <td>...</td>\n",
       "      <td>robinet</td>\n",
       "      <td>0</td>\n",
       "      <td>non</td>\n",
       "      <td>automatique</td>\n",
       "      <td>0</td>\n",
       "      <td>non</td>\n",
       "      <td>non</td>\n",
       "      <td>0</td>\n",
       "      <td>non</td>\n",
       "      <td>bouteille</td>\n",
       "    </tr>\n",
       "    <tr>\n",
       "      <th>556</th>\n",
       "      <td>m.eloise@gmail.com</td>\n",
       "      <td>28</td>\n",
       "      <td>femme</td>\n",
       "      <td>amiens</td>\n",
       "      <td>80000</td>\n",
       "      <td>7</td>\n",
       "      <td>5</td>\n",
       "      <td>fort</td>\n",
       "      <td>0</td>\n",
       "      <td>oui</td>\n",
       "      <td>...</td>\n",
       "      <td>robinet</td>\n",
       "      <td>0</td>\n",
       "      <td>oui</td>\n",
       "      <td>manuel</td>\n",
       "      <td>2</td>\n",
       "      <td>non</td>\n",
       "      <td>non</td>\n",
       "      <td>0</td>\n",
       "      <td>non</td>\n",
       "      <td>robinet</td>\n",
       "    </tr>\n",
       "    <tr>\n",
       "      <th>557</th>\n",
       "      <td>paul.bocquillon@orange.fr</td>\n",
       "      <td>18</td>\n",
       "      <td>homme</td>\n",
       "      <td>Albert</td>\n",
       "      <td>80300</td>\n",
       "      <td>7</td>\n",
       "      <td>3</td>\n",
       "      <td>moyen</td>\n",
       "      <td>0</td>\n",
       "      <td>oui</td>\n",
       "      <td>...</td>\n",
       "      <td>robinet</td>\n",
       "      <td>0</td>\n",
       "      <td>oui</td>\n",
       "      <td>automatique</td>\n",
       "      <td>1</td>\n",
       "      <td>non</td>\n",
       "      <td>non</td>\n",
       "      <td>0</td>\n",
       "      <td>oui</td>\n",
       "      <td>bouteille</td>\n",
       "    </tr>\n",
       "    <tr>\n",
       "      <th>558</th>\n",
       "      <td>mini.abi@gmail.com</td>\n",
       "      <td>21</td>\n",
       "      <td>femme</td>\n",
       "      <td>amiens</td>\n",
       "      <td>80000</td>\n",
       "      <td>7</td>\n",
       "      <td>5</td>\n",
       "      <td>fort</td>\n",
       "      <td>0</td>\n",
       "      <td>oui</td>\n",
       "      <td>...</td>\n",
       "      <td>pluie</td>\n",
       "      <td>8</td>\n",
       "      <td>oui</td>\n",
       "      <td>manuel</td>\n",
       "      <td>1</td>\n",
       "      <td>non</td>\n",
       "      <td>non</td>\n",
       "      <td>0</td>\n",
       "      <td>oui</td>\n",
       "      <td>bouteille</td>\n",
       "    </tr>\n",
       "    <tr>\n",
       "      <th>559</th>\n",
       "      <td>mr.hector@free.fr</td>\n",
       "      <td>42</td>\n",
       "      <td>homme</td>\n",
       "      <td>amiens</td>\n",
       "      <td>80000</td>\n",
       "      <td>7</td>\n",
       "      <td>5</td>\n",
       "      <td>moyen</td>\n",
       "      <td>0</td>\n",
       "      <td>oui</td>\n",
       "      <td>...</td>\n",
       "      <td>robinet</td>\n",
       "      <td>0</td>\n",
       "      <td>non</td>\n",
       "      <td>automatique</td>\n",
       "      <td>0</td>\n",
       "      <td>non</td>\n",
       "      <td>non</td>\n",
       "      <td>0</td>\n",
       "      <td>oui</td>\n",
       "      <td>robinet</td>\n",
       "    </tr>\n",
       "    <tr>\n",
       "      <th>560</th>\n",
       "      <td>bocquillon.andco@orange.fr</td>\n",
       "      <td>30</td>\n",
       "      <td>femme</td>\n",
       "      <td>albert</td>\n",
       "      <td>80300</td>\n",
       "      <td>7</td>\n",
       "      <td>5</td>\n",
       "      <td>faible</td>\n",
       "      <td>0</td>\n",
       "      <td>oui</td>\n",
       "      <td>...</td>\n",
       "      <td>robinet</td>\n",
       "      <td>0</td>\n",
       "      <td>oui</td>\n",
       "      <td>manuel</td>\n",
       "      <td>1</td>\n",
       "      <td>non</td>\n",
       "      <td>non</td>\n",
       "      <td>0</td>\n",
       "      <td>oui</td>\n",
       "      <td>robinet</td>\n",
       "    </tr>\n",
       "    <tr>\n",
       "      <th>561</th>\n",
       "      <td>seb.battaille@gmail.com</td>\n",
       "      <td>34</td>\n",
       "      <td>homme</td>\n",
       "      <td>amiens</td>\n",
       "      <td>80000</td>\n",
       "      <td>7</td>\n",
       "      <td>3</td>\n",
       "      <td>moyen</td>\n",
       "      <td>0</td>\n",
       "      <td>oui</td>\n",
       "      <td>...</td>\n",
       "      <td>robinet</td>\n",
       "      <td>0</td>\n",
       "      <td>oui</td>\n",
       "      <td>manuel</td>\n",
       "      <td>1</td>\n",
       "      <td>non</td>\n",
       "      <td>non</td>\n",
       "      <td>0</td>\n",
       "      <td>non</td>\n",
       "      <td>robinet</td>\n",
       "    </tr>\n",
       "    <tr>\n",
       "      <th>562</th>\n",
       "      <td>motako80@gmail.com</td>\n",
       "      <td>21</td>\n",
       "      <td>homme</td>\n",
       "      <td>amiens</td>\n",
       "      <td>80000</td>\n",
       "      <td>7</td>\n",
       "      <td>5</td>\n",
       "      <td>fort</td>\n",
       "      <td>0</td>\n",
       "      <td>oui</td>\n",
       "      <td>...</td>\n",
       "      <td>robinet</td>\n",
       "      <td>16</td>\n",
       "      <td>oui</td>\n",
       "      <td>manuel</td>\n",
       "      <td>2</td>\n",
       "      <td>non</td>\n",
       "      <td>non</td>\n",
       "      <td>0</td>\n",
       "      <td>non</td>\n",
       "      <td>robinet</td>\n",
       "    </tr>\n",
       "    <tr>\n",
       "      <th>563</th>\n",
       "      <td>arnaud.petit@gmail.com</td>\n",
       "      <td>28</td>\n",
       "      <td>homme</td>\n",
       "      <td>Albert</td>\n",
       "      <td>80300</td>\n",
       "      <td>7</td>\n",
       "      <td>10</td>\n",
       "      <td>moyen</td>\n",
       "      <td>0</td>\n",
       "      <td>oui</td>\n",
       "      <td>...</td>\n",
       "      <td>pluie</td>\n",
       "      <td>8</td>\n",
       "      <td>non</td>\n",
       "      <td>automatique</td>\n",
       "      <td>0</td>\n",
       "      <td>non</td>\n",
       "      <td>non</td>\n",
       "      <td>0</td>\n",
       "      <td>non</td>\n",
       "      <td>bouteille</td>\n",
       "    </tr>\n",
       "    <tr>\n",
       "      <th>564</th>\n",
       "      <td>louis.robert@gmail.com</td>\n",
       "      <td>36</td>\n",
       "      <td>homme</td>\n",
       "      <td>Bouzincourt</td>\n",
       "      <td>80300</td>\n",
       "      <td>14</td>\n",
       "      <td>10</td>\n",
       "      <td>moyen</td>\n",
       "      <td>0</td>\n",
       "      <td>oui</td>\n",
       "      <td>...</td>\n",
       "      <td>robinet</td>\n",
       "      <td>0</td>\n",
       "      <td>non</td>\n",
       "      <td>automatique</td>\n",
       "      <td>0</td>\n",
       "      <td>non</td>\n",
       "      <td>non</td>\n",
       "      <td>0</td>\n",
       "      <td>non</td>\n",
       "      <td>robinet</td>\n",
       "    </tr>\n",
       "    <tr>\n",
       "      <th>565</th>\n",
       "      <td>louise.richard@hotmail.fr</td>\n",
       "      <td>31</td>\n",
       "      <td>femme</td>\n",
       "      <td>amiens</td>\n",
       "      <td>80000</td>\n",
       "      <td>7</td>\n",
       "      <td>15</td>\n",
       "      <td>fort</td>\n",
       "      <td>2</td>\n",
       "      <td>non</td>\n",
       "      <td>...</td>\n",
       "      <td>pluie</td>\n",
       "      <td>30</td>\n",
       "      <td>oui</td>\n",
       "      <td>automatique</td>\n",
       "      <td>1</td>\n",
       "      <td>non</td>\n",
       "      <td>non</td>\n",
       "      <td>0</td>\n",
       "      <td>non</td>\n",
       "      <td>robinet</td>\n",
       "    </tr>\n",
       "    <tr>\n",
       "      <th>566</th>\n",
       "      <td>paul.durand@gmail.com</td>\n",
       "      <td>25</td>\n",
       "      <td>homme</td>\n",
       "      <td>peronne</td>\n",
       "      <td>80200</td>\n",
       "      <td>7</td>\n",
       "      <td>5</td>\n",
       "      <td>moyen</td>\n",
       "      <td>0</td>\n",
       "      <td>oui</td>\n",
       "      <td>...</td>\n",
       "      <td>pluie</td>\n",
       "      <td>0</td>\n",
       "      <td>oui</td>\n",
       "      <td>manuel</td>\n",
       "      <td>1</td>\n",
       "      <td>non</td>\n",
       "      <td>non</td>\n",
       "      <td>0</td>\n",
       "      <td>non</td>\n",
       "      <td>robinet</td>\n",
       "    </tr>\n",
       "    <tr>\n",
       "      <th>567</th>\n",
       "      <td>jade.dubois@wanadoo.fr</td>\n",
       "      <td>39</td>\n",
       "      <td>femme</td>\n",
       "      <td>amiens</td>\n",
       "      <td>80000</td>\n",
       "      <td>7</td>\n",
       "      <td>10</td>\n",
       "      <td>moyen</td>\n",
       "      <td>3</td>\n",
       "      <td>oui</td>\n",
       "      <td>...</td>\n",
       "      <td>robinet</td>\n",
       "      <td>0</td>\n",
       "      <td>oui</td>\n",
       "      <td>automatique</td>\n",
       "      <td>1</td>\n",
       "      <td>oui</td>\n",
       "      <td>oui</td>\n",
       "      <td>60</td>\n",
       "      <td>oui</td>\n",
       "      <td>robinet</td>\n",
       "    </tr>\n",
       "    <tr>\n",
       "      <th>568</th>\n",
       "      <td>a.moreau@gmail.com</td>\n",
       "      <td>42</td>\n",
       "      <td>homme</td>\n",
       "      <td>amiens</td>\n",
       "      <td>80000</td>\n",
       "      <td>7</td>\n",
       "      <td>10</td>\n",
       "      <td>moyen</td>\n",
       "      <td>0</td>\n",
       "      <td>oui</td>\n",
       "      <td>...</td>\n",
       "      <td>robinet</td>\n",
       "      <td>0</td>\n",
       "      <td>oui</td>\n",
       "      <td>manuel</td>\n",
       "      <td>1</td>\n",
       "      <td>non</td>\n",
       "      <td>non</td>\n",
       "      <td>0</td>\n",
       "      <td>non</td>\n",
       "      <td>bouteille</td>\n",
       "    </tr>\n",
       "    <tr>\n",
       "      <th>569</th>\n",
       "      <td>laurent.b@free.fr</td>\n",
       "      <td>36</td>\n",
       "      <td>homme</td>\n",
       "      <td>montreuil</td>\n",
       "      <td>93100</td>\n",
       "      <td>7</td>\n",
       "      <td>5</td>\n",
       "      <td>moyen</td>\n",
       "      <td>0</td>\n",
       "      <td>oui</td>\n",
       "      <td>...</td>\n",
       "      <td>robinet</td>\n",
       "      <td>8</td>\n",
       "      <td>oui</td>\n",
       "      <td>manuel</td>\n",
       "      <td>8</td>\n",
       "      <td>non</td>\n",
       "      <td>non</td>\n",
       "      <td>0</td>\n",
       "      <td>non</td>\n",
       "      <td>bouteille</td>\n",
       "    </tr>\n",
       "    <tr>\n",
       "      <th>...</th>\n",
       "      <td>...</td>\n",
       "      <td>...</td>\n",
       "      <td>...</td>\n",
       "      <td>...</td>\n",
       "      <td>...</td>\n",
       "      <td>...</td>\n",
       "      <td>...</td>\n",
       "      <td>...</td>\n",
       "      <td>...</td>\n",
       "      <td>...</td>\n",
       "      <td>...</td>\n",
       "      <td>...</td>\n",
       "      <td>...</td>\n",
       "      <td>...</td>\n",
       "      <td>...</td>\n",
       "      <td>...</td>\n",
       "      <td>...</td>\n",
       "      <td>...</td>\n",
       "      <td>...</td>\n",
       "      <td>...</td>\n",
       "      <td>...</td>\n",
       "    </tr>\n",
       "    <tr>\n",
       "      <th>711</th>\n",
       "      <td>zouc.fred@gmail.com</td>\n",
       "      <td>46</td>\n",
       "      <td>homme</td>\n",
       "      <td>MONTREUIL</td>\n",
       "      <td>93100</td>\n",
       "      <td>7</td>\n",
       "      <td>5</td>\n",
       "      <td>moyen</td>\n",
       "      <td>0</td>\n",
       "      <td>oui</td>\n",
       "      <td>...</td>\n",
       "      <td>robinet</td>\n",
       "      <td>0</td>\n",
       "      <td>oui</td>\n",
       "      <td>automatique</td>\n",
       "      <td>1</td>\n",
       "      <td>non</td>\n",
       "      <td>non</td>\n",
       "      <td>0</td>\n",
       "      <td>oui</td>\n",
       "      <td>robinet</td>\n",
       "    </tr>\n",
       "    <tr>\n",
       "      <th>712</th>\n",
       "      <td>christeulalie@gmail.com</td>\n",
       "      <td>48</td>\n",
       "      <td>femme</td>\n",
       "      <td>CHAUFFAILLES</td>\n",
       "      <td>71170</td>\n",
       "      <td>5</td>\n",
       "      <td>10</td>\n",
       "      <td>moyen</td>\n",
       "      <td>0</td>\n",
       "      <td>oui</td>\n",
       "      <td>...</td>\n",
       "      <td>pluie</td>\n",
       "      <td>2</td>\n",
       "      <td>oui</td>\n",
       "      <td>manuel</td>\n",
       "      <td>1</td>\n",
       "      <td>non</td>\n",
       "      <td>non</td>\n",
       "      <td>0</td>\n",
       "      <td>oui</td>\n",
       "      <td>bouteille</td>\n",
       "    </tr>\n",
       "    <tr>\n",
       "      <th>713</th>\n",
       "      <td>hugo.moleriant@hotmail.com</td>\n",
       "      <td>24</td>\n",
       "      <td>homme</td>\n",
       "      <td>montreuil</td>\n",
       "      <td>93100</td>\n",
       "      <td>7</td>\n",
       "      <td>15</td>\n",
       "      <td>moyen</td>\n",
       "      <td>0</td>\n",
       "      <td>oui</td>\n",
       "      <td>...</td>\n",
       "      <td>robinet</td>\n",
       "      <td>0</td>\n",
       "      <td>non</td>\n",
       "      <td>automatique</td>\n",
       "      <td>0</td>\n",
       "      <td>non</td>\n",
       "      <td>non</td>\n",
       "      <td>0</td>\n",
       "      <td>non</td>\n",
       "      <td>robinet</td>\n",
       "    </tr>\n",
       "    <tr>\n",
       "      <th>714</th>\n",
       "      <td>anne.gratias@free.fr</td>\n",
       "      <td>60</td>\n",
       "      <td>femme</td>\n",
       "      <td>Bures sur Yvette</td>\n",
       "      <td>91940</td>\n",
       "      <td>7</td>\n",
       "      <td>6</td>\n",
       "      <td>moyen</td>\n",
       "      <td>0</td>\n",
       "      <td>oui</td>\n",
       "      <td>...</td>\n",
       "      <td>pluie</td>\n",
       "      <td>3</td>\n",
       "      <td>oui</td>\n",
       "      <td>automatique</td>\n",
       "      <td>0</td>\n",
       "      <td>non</td>\n",
       "      <td>non</td>\n",
       "      <td>0</td>\n",
       "      <td>oui</td>\n",
       "      <td>robinet</td>\n",
       "    </tr>\n",
       "    <tr>\n",
       "      <th>715</th>\n",
       "      <td>antonin.gratias@gmail.com</td>\n",
       "      <td>23</td>\n",
       "      <td>homme</td>\n",
       "      <td>Bures sur Yvette</td>\n",
       "      <td>91440</td>\n",
       "      <td>7</td>\n",
       "      <td>8</td>\n",
       "      <td>moyen</td>\n",
       "      <td>0</td>\n",
       "      <td>oui</td>\n",
       "      <td>...</td>\n",
       "      <td>robinet</td>\n",
       "      <td>4</td>\n",
       "      <td>non</td>\n",
       "      <td>automatique</td>\n",
       "      <td>0</td>\n",
       "      <td>non</td>\n",
       "      <td>non</td>\n",
       "      <td>0</td>\n",
       "      <td>non</td>\n",
       "      <td>robinet</td>\n",
       "    </tr>\n",
       "    <tr>\n",
       "      <th>716</th>\n",
       "      <td>sophie2337@gmail.com</td>\n",
       "      <td>21</td>\n",
       "      <td>femme</td>\n",
       "      <td>Dijon</td>\n",
       "      <td>21000</td>\n",
       "      <td>5</td>\n",
       "      <td>12</td>\n",
       "      <td>moyen</td>\n",
       "      <td>0</td>\n",
       "      <td>oui</td>\n",
       "      <td>...</td>\n",
       "      <td>pluie</td>\n",
       "      <td>30</td>\n",
       "      <td>oui</td>\n",
       "      <td>automatique</td>\n",
       "      <td>0</td>\n",
       "      <td>non</td>\n",
       "      <td>non</td>\n",
       "      <td>0</td>\n",
       "      <td>non</td>\n",
       "      <td>robinet</td>\n",
       "    </tr>\n",
       "    <tr>\n",
       "      <th>717</th>\n",
       "      <td>florence.dupasquier1@gmail.com</td>\n",
       "      <td>27</td>\n",
       "      <td>femme</td>\n",
       "      <td>CLUNY</td>\n",
       "      <td>71250</td>\n",
       "      <td>9</td>\n",
       "      <td>4</td>\n",
       "      <td>faible</td>\n",
       "      <td>0</td>\n",
       "      <td>oui</td>\n",
       "      <td>...</td>\n",
       "      <td>robinet</td>\n",
       "      <td>5</td>\n",
       "      <td>oui</td>\n",
       "      <td>manuel</td>\n",
       "      <td>0</td>\n",
       "      <td>non</td>\n",
       "      <td>non</td>\n",
       "      <td>0</td>\n",
       "      <td>oui</td>\n",
       "      <td>robinet</td>\n",
       "    </tr>\n",
       "    <tr>\n",
       "      <th>718</th>\n",
       "      <td>estelle.pidancier@hotmail.fr</td>\n",
       "      <td>26</td>\n",
       "      <td>femme</td>\n",
       "      <td>Jaux</td>\n",
       "      <td>60880</td>\n",
       "      <td>7</td>\n",
       "      <td>10</td>\n",
       "      <td>moyen</td>\n",
       "      <td>0</td>\n",
       "      <td>oui</td>\n",
       "      <td>...</td>\n",
       "      <td>pluie</td>\n",
       "      <td>4</td>\n",
       "      <td>oui</td>\n",
       "      <td>automatique</td>\n",
       "      <td>0</td>\n",
       "      <td>non</td>\n",
       "      <td>non</td>\n",
       "      <td>0</td>\n",
       "      <td>oui</td>\n",
       "      <td>bouteille</td>\n",
       "    </tr>\n",
       "    <tr>\n",
       "      <th>719</th>\n",
       "      <td>denise.pidancier@neuf.fr</td>\n",
       "      <td>59</td>\n",
       "      <td>femme</td>\n",
       "      <td>Dijon</td>\n",
       "      <td>21000</td>\n",
       "      <td>4</td>\n",
       "      <td>10</td>\n",
       "      <td>fort</td>\n",
       "      <td>0</td>\n",
       "      <td>oui</td>\n",
       "      <td>...</td>\n",
       "      <td>pluie</td>\n",
       "      <td>0</td>\n",
       "      <td>oui</td>\n",
       "      <td>automatique</td>\n",
       "      <td>1</td>\n",
       "      <td>non</td>\n",
       "      <td>non</td>\n",
       "      <td>0</td>\n",
       "      <td>oui</td>\n",
       "      <td>robinet</td>\n",
       "    </tr>\n",
       "    <tr>\n",
       "      <th>721</th>\n",
       "      <td>muriel.pidancier@wanadoo.fr</td>\n",
       "      <td>49</td>\n",
       "      <td>femme</td>\n",
       "      <td>geispolsheim</td>\n",
       "      <td>67118</td>\n",
       "      <td>3</td>\n",
       "      <td>5</td>\n",
       "      <td>faible</td>\n",
       "      <td>0</td>\n",
       "      <td>oui</td>\n",
       "      <td>...</td>\n",
       "      <td>pluie</td>\n",
       "      <td>0</td>\n",
       "      <td>oui</td>\n",
       "      <td>manuel</td>\n",
       "      <td>0</td>\n",
       "      <td>non</td>\n",
       "      <td>non</td>\n",
       "      <td>0</td>\n",
       "      <td>oui</td>\n",
       "      <td>robinet</td>\n",
       "    </tr>\n",
       "    <tr>\n",
       "      <th>722</th>\n",
       "      <td>vincent.schuck@orange.fr</td>\n",
       "      <td>22</td>\n",
       "      <td>homme</td>\n",
       "      <td>Champs-sur-Marne</td>\n",
       "      <td>77420</td>\n",
       "      <td>9</td>\n",
       "      <td>20</td>\n",
       "      <td>moyen</td>\n",
       "      <td>2</td>\n",
       "      <td>non</td>\n",
       "      <td>...</td>\n",
       "      <td>robinet</td>\n",
       "      <td>4</td>\n",
       "      <td>non</td>\n",
       "      <td>automatique</td>\n",
       "      <td>0</td>\n",
       "      <td>non</td>\n",
       "      <td>non</td>\n",
       "      <td>0</td>\n",
       "      <td>non</td>\n",
       "      <td>robinet</td>\n",
       "    </tr>\n",
       "    <tr>\n",
       "      <th>723</th>\n",
       "      <td>chayan.chum@gmail.com</td>\n",
       "      <td>15</td>\n",
       "      <td>homme</td>\n",
       "      <td>Berre l'Ã©tang</td>\n",
       "      <td>13130</td>\n",
       "      <td>7</td>\n",
       "      <td>10</td>\n",
       "      <td>faible</td>\n",
       "      <td>0</td>\n",
       "      <td>oui</td>\n",
       "      <td>...</td>\n",
       "      <td>robinet</td>\n",
       "      <td>5</td>\n",
       "      <td>non</td>\n",
       "      <td>automatique</td>\n",
       "      <td>0</td>\n",
       "      <td>non</td>\n",
       "      <td>non</td>\n",
       "      <td>0</td>\n",
       "      <td>oui</td>\n",
       "      <td>robinet</td>\n",
       "    </tr>\n",
       "    <tr>\n",
       "      <th>724</th>\n",
       "      <td>takapa@wanadoo.fr</td>\n",
       "      <td>53</td>\n",
       "      <td>femme</td>\n",
       "      <td>Genelard</td>\n",
       "      <td>71300</td>\n",
       "      <td>7</td>\n",
       "      <td>4</td>\n",
       "      <td>moyen</td>\n",
       "      <td>0</td>\n",
       "      <td>oui</td>\n",
       "      <td>...</td>\n",
       "      <td>pluie</td>\n",
       "      <td>3</td>\n",
       "      <td>oui</td>\n",
       "      <td>manuel</td>\n",
       "      <td>2</td>\n",
       "      <td>non</td>\n",
       "      <td>non</td>\n",
       "      <td>0</td>\n",
       "      <td>oui</td>\n",
       "      <td>robinet</td>\n",
       "    </tr>\n",
       "    <tr>\n",
       "      <th>725</th>\n",
       "      <td>kem.steven3@gmail.com</td>\n",
       "      <td>22</td>\n",
       "      <td>homme</td>\n",
       "      <td>Suresnes</td>\n",
       "      <td>92150</td>\n",
       "      <td>14</td>\n",
       "      <td>10</td>\n",
       "      <td>moyen</td>\n",
       "      <td>0</td>\n",
       "      <td>oui</td>\n",
       "      <td>...</td>\n",
       "      <td>robinet</td>\n",
       "      <td>2</td>\n",
       "      <td>oui</td>\n",
       "      <td>manuel</td>\n",
       "      <td>1</td>\n",
       "      <td>non</td>\n",
       "      <td>non</td>\n",
       "      <td>0</td>\n",
       "      <td>oui</td>\n",
       "      <td>bouteille</td>\n",
       "    </tr>\n",
       "    <tr>\n",
       "      <th>726</th>\n",
       "      <td>du.charly1@gmail.com</td>\n",
       "      <td>19</td>\n",
       "      <td>homme</td>\n",
       "      <td>Vitrolles</td>\n",
       "      <td>13127</td>\n",
       "      <td>7</td>\n",
       "      <td>15</td>\n",
       "      <td>moyen</td>\n",
       "      <td>0</td>\n",
       "      <td>oui</td>\n",
       "      <td>...</td>\n",
       "      <td>robinet</td>\n",
       "      <td>15</td>\n",
       "      <td>oui</td>\n",
       "      <td>automatique</td>\n",
       "      <td>1</td>\n",
       "      <td>non</td>\n",
       "      <td>non</td>\n",
       "      <td>0</td>\n",
       "      <td>oui</td>\n",
       "      <td>bouteille</td>\n",
       "    </tr>\n",
       "    <tr>\n",
       "      <th>727</th>\n",
       "      <td>ounouh.95i@gmail.com</td>\n",
       "      <td>23</td>\n",
       "      <td>homme</td>\n",
       "      <td>Choisy le roi</td>\n",
       "      <td>94600</td>\n",
       "      <td>4</td>\n",
       "      <td>25</td>\n",
       "      <td>moyen</td>\n",
       "      <td>0</td>\n",
       "      <td>oui</td>\n",
       "      <td>...</td>\n",
       "      <td>robinet</td>\n",
       "      <td>0</td>\n",
       "      <td>non</td>\n",
       "      <td>automatique</td>\n",
       "      <td>0</td>\n",
       "      <td>non</td>\n",
       "      <td>non</td>\n",
       "      <td>0</td>\n",
       "      <td>non</td>\n",
       "      <td>robinet</td>\n",
       "    </tr>\n",
       "    <tr>\n",
       "      <th>728</th>\n",
       "      <td>pierre.schuck@yahoo.fr</td>\n",
       "      <td>54</td>\n",
       "      <td>homme</td>\n",
       "      <td>Chartres de Bretagne</td>\n",
       "      <td>35131</td>\n",
       "      <td>4</td>\n",
       "      <td>10</td>\n",
       "      <td>moyen</td>\n",
       "      <td>0</td>\n",
       "      <td>oui</td>\n",
       "      <td>...</td>\n",
       "      <td>pluie</td>\n",
       "      <td>8</td>\n",
       "      <td>oui</td>\n",
       "      <td>automatique</td>\n",
       "      <td>0</td>\n",
       "      <td>non</td>\n",
       "      <td>non</td>\n",
       "      <td>0</td>\n",
       "      <td>oui</td>\n",
       "      <td>robinet</td>\n",
       "    </tr>\n",
       "    <tr>\n",
       "      <th>729</th>\n",
       "      <td>pierre.schuck@orange.fr</td>\n",
       "      <td>55</td>\n",
       "      <td>femme</td>\n",
       "      <td>Chartres de Bretagne</td>\n",
       "      <td>35131</td>\n",
       "      <td>4</td>\n",
       "      <td>15</td>\n",
       "      <td>moyen</td>\n",
       "      <td>0</td>\n",
       "      <td>oui</td>\n",
       "      <td>...</td>\n",
       "      <td>pluie</td>\n",
       "      <td>10</td>\n",
       "      <td>oui</td>\n",
       "      <td>automatique</td>\n",
       "      <td>0</td>\n",
       "      <td>non</td>\n",
       "      <td>non</td>\n",
       "      <td>0</td>\n",
       "      <td>non</td>\n",
       "      <td>robinet</td>\n",
       "    </tr>\n",
       "    <tr>\n",
       "      <th>730</th>\n",
       "      <td>bouali.lyes@gmail.com</td>\n",
       "      <td>28</td>\n",
       "      <td>homme</td>\n",
       "      <td>Drancy</td>\n",
       "      <td>93700</td>\n",
       "      <td>5</td>\n",
       "      <td>10</td>\n",
       "      <td>moyen</td>\n",
       "      <td>0</td>\n",
       "      <td>oui</td>\n",
       "      <td>...</td>\n",
       "      <td>robinet</td>\n",
       "      <td>0</td>\n",
       "      <td>non</td>\n",
       "      <td>automatique</td>\n",
       "      <td>0</td>\n",
       "      <td>non</td>\n",
       "      <td>non</td>\n",
       "      <td>0</td>\n",
       "      <td>non</td>\n",
       "      <td>robinet</td>\n",
       "    </tr>\n",
       "    <tr>\n",
       "      <th>731</th>\n",
       "      <td>pierre.tournet@laposte.net</td>\n",
       "      <td>57</td>\n",
       "      <td>homme</td>\n",
       "      <td>Drancy</td>\n",
       "      <td>93700</td>\n",
       "      <td>7</td>\n",
       "      <td>10</td>\n",
       "      <td>fort</td>\n",
       "      <td>0</td>\n",
       "      <td>oui</td>\n",
       "      <td>...</td>\n",
       "      <td>robinet</td>\n",
       "      <td>2</td>\n",
       "      <td>oui</td>\n",
       "      <td>automatique</td>\n",
       "      <td>1</td>\n",
       "      <td>non</td>\n",
       "      <td>non</td>\n",
       "      <td>0</td>\n",
       "      <td>oui</td>\n",
       "      <td>robinet</td>\n",
       "    </tr>\n",
       "    <tr>\n",
       "      <th>732</th>\n",
       "      <td>gouacide.tracy@hotmail.com</td>\n",
       "      <td>26</td>\n",
       "      <td>femme</td>\n",
       "      <td>Reims</td>\n",
       "      <td>51100</td>\n",
       "      <td>9</td>\n",
       "      <td>10</td>\n",
       "      <td>moyen</td>\n",
       "      <td>0</td>\n",
       "      <td>oui</td>\n",
       "      <td>...</td>\n",
       "      <td>robinet</td>\n",
       "      <td>0</td>\n",
       "      <td>non</td>\n",
       "      <td>automatique</td>\n",
       "      <td>0</td>\n",
       "      <td>non</td>\n",
       "      <td>non</td>\n",
       "      <td>0</td>\n",
       "      <td>oui</td>\n",
       "      <td>robinet</td>\n",
       "    </tr>\n",
       "    <tr>\n",
       "      <th>733</th>\n",
       "      <td>barbara_e@hotmail.fr</td>\n",
       "      <td>16</td>\n",
       "      <td>femme</td>\n",
       "      <td>Argenteuil</td>\n",
       "      <td>95100</td>\n",
       "      <td>12</td>\n",
       "      <td>13</td>\n",
       "      <td>moyen</td>\n",
       "      <td>0</td>\n",
       "      <td>oui</td>\n",
       "      <td>...</td>\n",
       "      <td>robinet</td>\n",
       "      <td>0</td>\n",
       "      <td>oui</td>\n",
       "      <td>automatique</td>\n",
       "      <td>3</td>\n",
       "      <td>non</td>\n",
       "      <td>non</td>\n",
       "      <td>0</td>\n",
       "      <td>non</td>\n",
       "      <td>robinet</td>\n",
       "    </tr>\n",
       "    <tr>\n",
       "      <th>734</th>\n",
       "      <td>tatiana.edouard@live.com</td>\n",
       "      <td>25</td>\n",
       "      <td>femme</td>\n",
       "      <td>Paris</td>\n",
       "      <td>75013</td>\n",
       "      <td>14</td>\n",
       "      <td>15</td>\n",
       "      <td>moyen</td>\n",
       "      <td>2</td>\n",
       "      <td>oui</td>\n",
       "      <td>...</td>\n",
       "      <td>robinet</td>\n",
       "      <td>0</td>\n",
       "      <td>non</td>\n",
       "      <td>automatique</td>\n",
       "      <td>0</td>\n",
       "      <td>non</td>\n",
       "      <td>non</td>\n",
       "      <td>0</td>\n",
       "      <td>oui</td>\n",
       "      <td>robinet</td>\n",
       "    </tr>\n",
       "    <tr>\n",
       "      <th>735</th>\n",
       "      <td>melissacancan@hotmail.fr</td>\n",
       "      <td>29</td>\n",
       "      <td>femme</td>\n",
       "      <td>Villetaneuse</td>\n",
       "      <td>93430</td>\n",
       "      <td>14</td>\n",
       "      <td>20</td>\n",
       "      <td>faible</td>\n",
       "      <td>1211</td>\n",
       "      <td>oui</td>\n",
       "      <td>...</td>\n",
       "      <td>robinet</td>\n",
       "      <td>0</td>\n",
       "      <td>non</td>\n",
       "      <td>automatique</td>\n",
       "      <td>0</td>\n",
       "      <td>non</td>\n",
       "      <td>non</td>\n",
       "      <td>0</td>\n",
       "      <td>oui</td>\n",
       "      <td>bouteille</td>\n",
       "    </tr>\n",
       "    <tr>\n",
       "      <th>736</th>\n",
       "      <td>withney.ferdinand@hotmail.fr</td>\n",
       "      <td>24</td>\n",
       "      <td>femme</td>\n",
       "      <td>Arcueil</td>\n",
       "      <td>94110</td>\n",
       "      <td>8</td>\n",
       "      <td>15</td>\n",
       "      <td>moyen</td>\n",
       "      <td>0</td>\n",
       "      <td>oui</td>\n",
       "      <td>...</td>\n",
       "      <td>robinet</td>\n",
       "      <td>0</td>\n",
       "      <td>non</td>\n",
       "      <td>automatique</td>\n",
       "      <td>0</td>\n",
       "      <td>non</td>\n",
       "      <td>non</td>\n",
       "      <td>0</td>\n",
       "      <td>non</td>\n",
       "      <td>bouteille</td>\n",
       "    </tr>\n",
       "    <tr>\n",
       "      <th>737</th>\n",
       "      <td>falory.edouard@hotmail.fr</td>\n",
       "      <td>16</td>\n",
       "      <td>femme</td>\n",
       "      <td>Paris</td>\n",
       "      <td>75013</td>\n",
       "      <td>14</td>\n",
       "      <td>5</td>\n",
       "      <td>moyen</td>\n",
       "      <td>0</td>\n",
       "      <td>oui</td>\n",
       "      <td>...</td>\n",
       "      <td>robinet</td>\n",
       "      <td>0</td>\n",
       "      <td>non</td>\n",
       "      <td>automatique</td>\n",
       "      <td>0</td>\n",
       "      <td>non</td>\n",
       "      <td>non</td>\n",
       "      <td>0</td>\n",
       "      <td>oui</td>\n",
       "      <td>robinet</td>\n",
       "    </tr>\n",
       "    <tr>\n",
       "      <th>738</th>\n",
       "      <td>helene-volu@hotmail.fr</td>\n",
       "      <td>25</td>\n",
       "      <td>femme</td>\n",
       "      <td>Paris</td>\n",
       "      <td>75020</td>\n",
       "      <td>2</td>\n",
       "      <td>50</td>\n",
       "      <td>moyen</td>\n",
       "      <td>10</td>\n",
       "      <td>oui</td>\n",
       "      <td>...</td>\n",
       "      <td>robinet</td>\n",
       "      <td>0</td>\n",
       "      <td>oui</td>\n",
       "      <td>automatique</td>\n",
       "      <td>3</td>\n",
       "      <td>non</td>\n",
       "      <td>non</td>\n",
       "      <td>0</td>\n",
       "      <td>oui</td>\n",
       "      <td>bouteille</td>\n",
       "    </tr>\n",
       "    <tr>\n",
       "      <th>739</th>\n",
       "      <td>crisi@club-internet.fr</td>\n",
       "      <td>35</td>\n",
       "      <td>femme</td>\n",
       "      <td>Chatillon</td>\n",
       "      <td>92320</td>\n",
       "      <td>14</td>\n",
       "      <td>7</td>\n",
       "      <td>moyen</td>\n",
       "      <td>0</td>\n",
       "      <td>oui</td>\n",
       "      <td>...</td>\n",
       "      <td>robinet</td>\n",
       "      <td>0</td>\n",
       "      <td>oui</td>\n",
       "      <td>manuel</td>\n",
       "      <td>1</td>\n",
       "      <td>non</td>\n",
       "      <td>non</td>\n",
       "      <td>0</td>\n",
       "      <td>oui</td>\n",
       "      <td>bouteille</td>\n",
       "    </tr>\n",
       "    <tr>\n",
       "      <th>740</th>\n",
       "      <td>boby.tang@hotmail.fr</td>\n",
       "      <td>22</td>\n",
       "      <td>homme</td>\n",
       "      <td>Villepinte</td>\n",
       "      <td>93420</td>\n",
       "      <td>7</td>\n",
       "      <td>12</td>\n",
       "      <td>moyen</td>\n",
       "      <td>0</td>\n",
       "      <td>oui</td>\n",
       "      <td>...</td>\n",
       "      <td>robinet</td>\n",
       "      <td>10</td>\n",
       "      <td>oui</td>\n",
       "      <td>manuel</td>\n",
       "      <td>0</td>\n",
       "      <td>non</td>\n",
       "      <td>non</td>\n",
       "      <td>0</td>\n",
       "      <td>oui</td>\n",
       "      <td>bouteille</td>\n",
       "    </tr>\n",
       "    <tr>\n",
       "      <th>741</th>\n",
       "      <td>oy.youcef@gmail.com</td>\n",
       "      <td>36</td>\n",
       "      <td>homme</td>\n",
       "      <td>Antony</td>\n",
       "      <td>92160</td>\n",
       "      <td>5</td>\n",
       "      <td>10</td>\n",
       "      <td>moyen</td>\n",
       "      <td>0</td>\n",
       "      <td>oui</td>\n",
       "      <td>...</td>\n",
       "      <td>robinet</td>\n",
       "      <td>0</td>\n",
       "      <td>non</td>\n",
       "      <td>automatique</td>\n",
       "      <td>0</td>\n",
       "      <td>non</td>\n",
       "      <td>non</td>\n",
       "      <td>0</td>\n",
       "      <td>non</td>\n",
       "      <td>bouteille</td>\n",
       "    </tr>\n",
       "  </tbody>\n",
       "</table>\n",
       "<p>201 rows × 31 columns</p>\n",
       "</div>"
      ],
      "text/plain": [
       "                               mail  age   sexe                   ville  \\\n",
       "id                                                                        \n",
       "69             hugo.gomez@hetic.net   21  homme      Saint Leu la Foret   \n",
       "70      bocquillon.pierre@orange.fr   22  homme               MONTREUIL   \n",
       "71            jp.marceaux@gmail.com   29  homme                  amiens   \n",
       "72     marie.elise.morena@gmail.com   26  femme                  Albert   \n",
       "74                 radioman@free.fr   56  homme  Villeneuve en Montagne   \n",
       "75         clem.pidancier@gmail.com   21  femme              Montreuil    \n",
       "76              f.pidancier@free.fr   54  femme       BRIIS-sous-Forges   \n",
       "77        marianne.pessin@gmail.com   58  femme            CHAUFFAILLES   \n",
       "78         helene.couybes@gmail.com   27  femme               Palaiseau   \n",
       "79               juanjoseco@free.fr   51  homme                   Paris   \n",
       "80        cathyveyradier@hotmail.fr   45  femme                   Paris   \n",
       "81           simon.pessin@gmail.com   31  homme            Chauffailles   \n",
       "82          lola-francois@orange.fr   25  femme                    Nice   \n",
       "83       annie.guillemin5@orange.fr   48  femme                   Dijon   \n",
       "84         jeronimodiparigi@free.fr   49  homme                   Paris   \n",
       "555        marina.lequeux@gmail.com   21  femme                  amiens   \n",
       "556              m.eloise@gmail.com   28  femme                  amiens   \n",
       "557       paul.bocquillon@orange.fr   18  homme                  Albert   \n",
       "558              mini.abi@gmail.com   21  femme                  amiens   \n",
       "559               mr.hector@free.fr   42  homme                  amiens   \n",
       "560      bocquillon.andco@orange.fr   30  femme                  albert   \n",
       "561         seb.battaille@gmail.com   34  homme                  amiens   \n",
       "562              motako80@gmail.com   21  homme                  amiens   \n",
       "563          arnaud.petit@gmail.com   28  homme                  Albert   \n",
       "564          louis.robert@gmail.com   36  homme             Bouzincourt   \n",
       "565       louise.richard@hotmail.fr   31  femme                  amiens   \n",
       "566           paul.durand@gmail.com   25  homme                 peronne   \n",
       "567          jade.dubois@wanadoo.fr   39  femme                  amiens   \n",
       "568              a.moreau@gmail.com   42  homme                  amiens   \n",
       "569               laurent.b@free.fr   36  homme               montreuil   \n",
       "..                              ...  ...    ...                     ...   \n",
       "711             zouc.fred@gmail.com   46  homme               MONTREUIL   \n",
       "712         christeulalie@gmail.com   48  femme            CHAUFFAILLES   \n",
       "713      hugo.moleriant@hotmail.com   24  homme               montreuil   \n",
       "714            anne.gratias@free.fr   60  femme       Bures sur Yvette    \n",
       "715       antonin.gratias@gmail.com   23  homme        Bures sur Yvette   \n",
       "716            sophie2337@gmail.com   21  femme                   Dijon   \n",
       "717  florence.dupasquier1@gmail.com   27  femme                   CLUNY   \n",
       "718    estelle.pidancier@hotmail.fr   26  femme                    Jaux   \n",
       "719        denise.pidancier@neuf.fr   59  femme                   Dijon   \n",
       "721     muriel.pidancier@wanadoo.fr   49  femme            geispolsheim   \n",
       "722        vincent.schuck@orange.fr   22  homme        Champs-sur-Marne   \n",
       "723           chayan.chum@gmail.com   15  homme          Berre l'Ã©tang   \n",
       "724               takapa@wanadoo.fr   53  femme               Genelard    \n",
       "725           kem.steven3@gmail.com   22  homme                Suresnes   \n",
       "726            du.charly1@gmail.com   19  homme               Vitrolles   \n",
       "727            ounouh.95i@gmail.com   23  homme           Choisy le roi   \n",
       "728          pierre.schuck@yahoo.fr   54  homme    Chartres de Bretagne   \n",
       "729         pierre.schuck@orange.fr   55  femme    Chartres de Bretagne   \n",
       "730           bouali.lyes@gmail.com   28  homme                 Drancy    \n",
       "731      pierre.tournet@laposte.net   57  homme                  Drancy   \n",
       "732      gouacide.tracy@hotmail.com   26  femme                   Reims   \n",
       "733            barbara_e@hotmail.fr   16  femme             Argenteuil    \n",
       "734        tatiana.edouard@live.com   25  femme                   Paris   \n",
       "735        melissacancan@hotmail.fr   29  femme            Villetaneuse   \n",
       "736    withney.ferdinand@hotmail.fr   24  femme                Arcueil    \n",
       "737       falory.edouard@hotmail.fr   16  femme                   Paris   \n",
       "738          helene-volu@hotmail.fr   25  femme                  Paris    \n",
       "739          crisi@club-internet.fr   35  femme              Chatillon    \n",
       "740            boby.tang@hotmail.fr   22  homme              Villepinte   \n",
       "741             oy.youcef@gmail.com   36  homme                  Antony   \n",
       "\n",
       "        cp  freqDouche  tempsDouche debitDouche  freqBain rempBain    ...      \\\n",
       "id                                                                    ...       \n",
       "69   95320           7           13        fort         0      oui    ...       \n",
       "70   93100           7            3       moyen         0      oui    ...       \n",
       "71   80000           7            5        fort         1      oui    ...       \n",
       "72   80300           7           15       moyen         0      oui    ...       \n",
       "74   71390           7            8       moyen         0      oui    ...       \n",
       "75   93100           7           25       moyen         0      oui    ...       \n",
       "76   91640           7           10       moyen         0      oui    ...       \n",
       "77   71170           6           10        fort         0      oui    ...       \n",
       "78   91120           7           15       moyen         0      oui    ...       \n",
       "79   75003           7           15        fort         0      oui    ...       \n",
       "80   75010          14           15       moyen         0      oui    ...       \n",
       "81   71170           7           15      faible         0      oui    ...       \n",
       "82    6300           5            5       moyen         0      oui    ...       \n",
       "83   21000           7           10       moyen         0      oui    ...       \n",
       "84   75003           7            6      faible         0      oui    ...       \n",
       "555  80000           7            5       moyen         0      oui    ...       \n",
       "556  80000           7            5        fort         0      oui    ...       \n",
       "557  80300           7            3       moyen         0      oui    ...       \n",
       "558  80000           7            5        fort         0      oui    ...       \n",
       "559  80000           7            5       moyen         0      oui    ...       \n",
       "560  80300           7            5      faible         0      oui    ...       \n",
       "561  80000           7            3       moyen         0      oui    ...       \n",
       "562  80000           7            5        fort         0      oui    ...       \n",
       "563  80300           7           10       moyen         0      oui    ...       \n",
       "564  80300          14           10       moyen         0      oui    ...       \n",
       "565  80000           7           15        fort         2      non    ...       \n",
       "566  80200           7            5       moyen         0      oui    ...       \n",
       "567  80000           7           10       moyen         3      oui    ...       \n",
       "568  80000           7           10       moyen         0      oui    ...       \n",
       "569  93100           7            5       moyen         0      oui    ...       \n",
       "..     ...         ...          ...         ...       ...      ...    ...       \n",
       "711  93100           7            5       moyen         0      oui    ...       \n",
       "712  71170           5           10       moyen         0      oui    ...       \n",
       "713  93100           7           15       moyen         0      oui    ...       \n",
       "714  91940           7            6       moyen         0      oui    ...       \n",
       "715  91440           7            8       moyen         0      oui    ...       \n",
       "716  21000           5           12       moyen         0      oui    ...       \n",
       "717  71250           9            4      faible         0      oui    ...       \n",
       "718  60880           7           10       moyen         0      oui    ...       \n",
       "719  21000           4           10        fort         0      oui    ...       \n",
       "721  67118           3            5      faible         0      oui    ...       \n",
       "722  77420           9           20       moyen         2      non    ...       \n",
       "723  13130           7           10      faible         0      oui    ...       \n",
       "724  71300           7            4       moyen         0      oui    ...       \n",
       "725  92150          14           10       moyen         0      oui    ...       \n",
       "726  13127           7           15       moyen         0      oui    ...       \n",
       "727  94600           4           25       moyen         0      oui    ...       \n",
       "728  35131           4           10       moyen         0      oui    ...       \n",
       "729  35131           4           15       moyen         0      oui    ...       \n",
       "730  93700           5           10       moyen         0      oui    ...       \n",
       "731  93700           7           10        fort         0      oui    ...       \n",
       "732  51100           9           10       moyen         0      oui    ...       \n",
       "733  95100          12           13       moyen         0      oui    ...       \n",
       "734  75013          14           15       moyen         2      oui    ...       \n",
       "735  93430          14           20      faible      1211      oui    ...       \n",
       "736  94110           8           15       moyen         0      oui    ...       \n",
       "737  75013          14            5       moyen         0      oui    ...       \n",
       "738  75020           2           50       moyen        10      oui    ...       \n",
       "739  92320          14            7       moyen         0      oui    ...       \n",
       "740  93420           7           12       moyen         0      oui    ...       \n",
       "741  92160           5           10       moyen         0      oui    ...       \n",
       "\n",
       "     eauPlante freqPlante  voiture  methVoiture freqVoiture  piscine  \\\n",
       "id                                                                     \n",
       "69     robinet         15      non       manuel           1      non   \n",
       "70     robinet          0      oui  automatique           1      non   \n",
       "71     robinet          0      oui       manuel           2      non   \n",
       "72       pluie          8      oui  automatique           1      non   \n",
       "74       pluie         10      oui       manuel           0      non   \n",
       "75     robinet          0      non  automatique           0      non   \n",
       "76     robinet          6      oui  automatique           0      non   \n",
       "77     robinet          3      oui  automatique           0      non   \n",
       "78     robinet          0      oui  automatique           0      non   \n",
       "79     robinet          5      non  automatique           0      non   \n",
       "80     robinet          0      oui  automatique           0      non   \n",
       "81     robinet          0      oui  automatique           1      non   \n",
       "82     robinet          0      oui       manuel           0      non   \n",
       "83       pluie          5      oui  automatique           0      non   \n",
       "84     robinet          4      non  automatique           0      non   \n",
       "555    robinet          0      non  automatique           0      non   \n",
       "556    robinet          0      oui       manuel           2      non   \n",
       "557    robinet          0      oui  automatique           1      non   \n",
       "558      pluie          8      oui       manuel           1      non   \n",
       "559    robinet          0      non  automatique           0      non   \n",
       "560    robinet          0      oui       manuel           1      non   \n",
       "561    robinet          0      oui       manuel           1      non   \n",
       "562    robinet         16      oui       manuel           2      non   \n",
       "563      pluie          8      non  automatique           0      non   \n",
       "564    robinet          0      non  automatique           0      non   \n",
       "565      pluie         30      oui  automatique           1      non   \n",
       "566      pluie          0      oui       manuel           1      non   \n",
       "567    robinet          0      oui  automatique           1      oui   \n",
       "568    robinet          0      oui       manuel           1      non   \n",
       "569    robinet          8      oui       manuel           8      non   \n",
       "..         ...        ...      ...          ...         ...      ...   \n",
       "711    robinet          0      oui  automatique           1      non   \n",
       "712      pluie          2      oui       manuel           1      non   \n",
       "713    robinet          0      non  automatique           0      non   \n",
       "714      pluie          3      oui  automatique           0      non   \n",
       "715    robinet          4      non  automatique           0      non   \n",
       "716      pluie         30      oui  automatique           0      non   \n",
       "717    robinet          5      oui       manuel           0      non   \n",
       "718      pluie          4      oui  automatique           0      non   \n",
       "719      pluie          0      oui  automatique           1      non   \n",
       "721      pluie          0      oui       manuel           0      non   \n",
       "722    robinet          4      non  automatique           0      non   \n",
       "723    robinet          5      non  automatique           0      non   \n",
       "724      pluie          3      oui       manuel           2      non   \n",
       "725    robinet          2      oui       manuel           1      non   \n",
       "726    robinet         15      oui  automatique           1      non   \n",
       "727    robinet          0      non  automatique           0      non   \n",
       "728      pluie          8      oui  automatique           0      non   \n",
       "729      pluie         10      oui  automatique           0      non   \n",
       "730    robinet          0      non  automatique           0      non   \n",
       "731    robinet          2      oui  automatique           1      non   \n",
       "732    robinet          0      non  automatique           0      non   \n",
       "733    robinet          0      oui  automatique           3      non   \n",
       "734    robinet          0      non  automatique           0      non   \n",
       "735    robinet          0      non  automatique           0      non   \n",
       "736    robinet          0      non  automatique           0      non   \n",
       "737    robinet          0      non  automatique           0      non   \n",
       "738    robinet          0      oui  automatique           3      non   \n",
       "739    robinet          0      oui       manuel           1      non   \n",
       "740    robinet         10      oui       manuel           0      non   \n",
       "741    robinet          0      non  automatique           0      non   \n",
       "\n",
       "     freqPiscine volumePiscine  etiquette  bouteille  \n",
       "id                                                    \n",
       "69           non             0        non  bouteille  \n",
       "70           non             0        non    robinet  \n",
       "71           non             0        non  bouteille  \n",
       "72           non             0        oui  bouteille  \n",
       "74           non             0        oui    robinet  \n",
       "75           non             0        oui    robinet  \n",
       "76           non             0        oui    robinet  \n",
       "77           non             0        oui  bouteille  \n",
       "78           non             0        oui  bouteille  \n",
       "79           non             0        non    robinet  \n",
       "80           non             0        oui  bouteille  \n",
       "81           non             0        oui    robinet  \n",
       "82           non             0        oui    robinet  \n",
       "83           non             0        oui    robinet  \n",
       "84           non             0        oui    robinet  \n",
       "555          non             0        non  bouteille  \n",
       "556          non             0        non    robinet  \n",
       "557          non             0        oui  bouteille  \n",
       "558          non             0        oui  bouteille  \n",
       "559          non             0        oui    robinet  \n",
       "560          non             0        oui    robinet  \n",
       "561          non             0        non    robinet  \n",
       "562          non             0        non    robinet  \n",
       "563          non             0        non  bouteille  \n",
       "564          non             0        non    robinet  \n",
       "565          non             0        non    robinet  \n",
       "566          non             0        non    robinet  \n",
       "567          oui            60        oui    robinet  \n",
       "568          non             0        non  bouteille  \n",
       "569          non             0        non  bouteille  \n",
       "..           ...           ...        ...        ...  \n",
       "711          non             0        oui    robinet  \n",
       "712          non             0        oui  bouteille  \n",
       "713          non             0        non    robinet  \n",
       "714          non             0        oui    robinet  \n",
       "715          non             0        non    robinet  \n",
       "716          non             0        non    robinet  \n",
       "717          non             0        oui    robinet  \n",
       "718          non             0        oui  bouteille  \n",
       "719          non             0        oui    robinet  \n",
       "721          non             0        oui    robinet  \n",
       "722          non             0        non    robinet  \n",
       "723          non             0        oui    robinet  \n",
       "724          non             0        oui    robinet  \n",
       "725          non             0        oui  bouteille  \n",
       "726          non             0        oui  bouteille  \n",
       "727          non             0        non    robinet  \n",
       "728          non             0        oui    robinet  \n",
       "729          non             0        non    robinet  \n",
       "730          non             0        non    robinet  \n",
       "731          non             0        oui    robinet  \n",
       "732          non             0        oui    robinet  \n",
       "733          non             0        non    robinet  \n",
       "734          non             0        oui    robinet  \n",
       "735          non             0        oui  bouteille  \n",
       "736          non             0        non  bouteille  \n",
       "737          non             0        oui    robinet  \n",
       "738          non             0        oui  bouteille  \n",
       "739          non             0        oui  bouteille  \n",
       "740          non             0        oui  bouteille  \n",
       "741          non             0        non  bouteille  \n",
       "\n",
       "[201 rows x 31 columns]"
      ]
     },
     "execution_count": 2,
     "metadata": {},
     "output_type": "execute_result"
    }
   ],
   "source": [
    "df= pd.read_csv('data2.csv', index_col=0)\n",
    "df"
   ]
  },
  {
   "cell_type": "code",
   "execution_count": 3,
   "metadata": {},
   "outputs": [
    {
     "data": {
      "text/html": [
       "<div>\n",
       "<style scoped>\n",
       "    .dataframe tbody tr th:only-of-type {\n",
       "        vertical-align: middle;\n",
       "    }\n",
       "\n",
       "    .dataframe tbody tr th {\n",
       "        vertical-align: top;\n",
       "    }\n",
       "\n",
       "    .dataframe thead th {\n",
       "        text-align: right;\n",
       "    }\n",
       "</style>\n",
       "<table border=\"1\" class=\"dataframe\">\n",
       "  <thead>\n",
       "    <tr style=\"text-align: right;\">\n",
       "      <th></th>\n",
       "      <th>age</th>\n",
       "      <th>cp</th>\n",
       "      <th>freqDouche</th>\n",
       "      <th>tempsDouche</th>\n",
       "      <th>freqBain</th>\n",
       "      <th>freqDents</th>\n",
       "      <th>freqVaisselle</th>\n",
       "      <th>couvVaisselle</th>\n",
       "      <th>freqMAL</th>\n",
       "      <th>ecoEau</th>\n",
       "      <th>freqPlante</th>\n",
       "      <th>freqVoiture</th>\n",
       "      <th>volumePiscine</th>\n",
       "    </tr>\n",
       "  </thead>\n",
       "  <tbody>\n",
       "    <tr>\n",
       "      <th>count</th>\n",
       "      <td>201.000000</td>\n",
       "      <td>201.000000</td>\n",
       "      <td>201.000000</td>\n",
       "      <td>201.000000</td>\n",
       "      <td>201.000000</td>\n",
       "      <td>201.000000</td>\n",
       "      <td>201.000000</td>\n",
       "      <td>201.000000</td>\n",
       "      <td>201.000000</td>\n",
       "      <td>201.000000</td>\n",
       "      <td>201.000000</td>\n",
       "      <td>201.000000</td>\n",
       "      <td>201.000000</td>\n",
       "    </tr>\n",
       "    <tr>\n",
       "      <th>mean</th>\n",
       "      <td>37.601990</td>\n",
       "      <td>78635.427861</td>\n",
       "      <td>7.651741</td>\n",
       "      <td>10.452736</td>\n",
       "      <td>6.303483</td>\n",
       "      <td>1.830846</td>\n",
       "      <td>7.517413</td>\n",
       "      <td>6.875622</td>\n",
       "      <td>9.328358</td>\n",
       "      <td>32.875622</td>\n",
       "      <td>4.258706</td>\n",
       "      <td>0.950249</td>\n",
       "      <td>2.855721</td>\n",
       "    </tr>\n",
       "    <tr>\n",
       "      <th>std</th>\n",
       "      <td>12.336563</td>\n",
       "      <td>13591.121406</td>\n",
       "      <td>2.331975</td>\n",
       "      <td>6.503000</td>\n",
       "      <td>85.402883</td>\n",
       "      <td>0.617449</td>\n",
       "      <td>5.121615</td>\n",
       "      <td>8.940327</td>\n",
       "      <td>8.293470</td>\n",
       "      <td>46.769963</td>\n",
       "      <td>7.825774</td>\n",
       "      <td>1.267877</td>\n",
       "      <td>12.428760</td>\n",
       "    </tr>\n",
       "    <tr>\n",
       "      <th>min</th>\n",
       "      <td>15.000000</td>\n",
       "      <td>6300.000000</td>\n",
       "      <td>2.000000</td>\n",
       "      <td>3.000000</td>\n",
       "      <td>0.000000</td>\n",
       "      <td>0.000000</td>\n",
       "      <td>0.000000</td>\n",
       "      <td>0.000000</td>\n",
       "      <td>0.000000</td>\n",
       "      <td>0.000000</td>\n",
       "      <td>0.000000</td>\n",
       "      <td>0.000000</td>\n",
       "      <td>0.000000</td>\n",
       "    </tr>\n",
       "    <tr>\n",
       "      <th>25%</th>\n",
       "      <td>26.000000</td>\n",
       "      <td>80000.000000</td>\n",
       "      <td>7.000000</td>\n",
       "      <td>5.000000</td>\n",
       "      <td>0.000000</td>\n",
       "      <td>1.000000</td>\n",
       "      <td>3.000000</td>\n",
       "      <td>0.000000</td>\n",
       "      <td>4.000000</td>\n",
       "      <td>0.000000</td>\n",
       "      <td>0.000000</td>\n",
       "      <td>0.000000</td>\n",
       "      <td>0.000000</td>\n",
       "    </tr>\n",
       "    <tr>\n",
       "      <th>50%</th>\n",
       "      <td>39.000000</td>\n",
       "      <td>80000.000000</td>\n",
       "      <td>7.000000</td>\n",
       "      <td>10.000000</td>\n",
       "      <td>0.000000</td>\n",
       "      <td>2.000000</td>\n",
       "      <td>7.000000</td>\n",
       "      <td>0.000000</td>\n",
       "      <td>6.000000</td>\n",
       "      <td>0.000000</td>\n",
       "      <td>0.000000</td>\n",
       "      <td>1.000000</td>\n",
       "      <td>0.000000</td>\n",
       "    </tr>\n",
       "    <tr>\n",
       "      <th>75%</th>\n",
       "      <td>48.000000</td>\n",
       "      <td>80300.000000</td>\n",
       "      <td>7.000000</td>\n",
       "      <td>15.000000</td>\n",
       "      <td>0.000000</td>\n",
       "      <td>2.000000</td>\n",
       "      <td>14.000000</td>\n",
       "      <td>16.000000</td>\n",
       "      <td>12.000000</td>\n",
       "      <td>100.000000</td>\n",
       "      <td>6.000000</td>\n",
       "      <td>1.000000</td>\n",
       "      <td>0.000000</td>\n",
       "    </tr>\n",
       "    <tr>\n",
       "      <th>max</th>\n",
       "      <td>61.000000</td>\n",
       "      <td>95320.000000</td>\n",
       "      <td>14.000000</td>\n",
       "      <td>50.000000</td>\n",
       "      <td>1211.000000</td>\n",
       "      <td>3.000000</td>\n",
       "      <td>21.000000</td>\n",
       "      <td>40.000000</td>\n",
       "      <td>31.000000</td>\n",
       "      <td>111.000000</td>\n",
       "      <td>30.000000</td>\n",
       "      <td>8.000000</td>\n",
       "      <td>80.000000</td>\n",
       "    </tr>\n",
       "  </tbody>\n",
       "</table>\n",
       "</div>"
      ],
      "text/plain": [
       "              age            cp  freqDouche  tempsDouche     freqBain  \\\n",
       "count  201.000000    201.000000  201.000000   201.000000   201.000000   \n",
       "mean    37.601990  78635.427861    7.651741    10.452736     6.303483   \n",
       "std     12.336563  13591.121406    2.331975     6.503000    85.402883   \n",
       "min     15.000000   6300.000000    2.000000     3.000000     0.000000   \n",
       "25%     26.000000  80000.000000    7.000000     5.000000     0.000000   \n",
       "50%     39.000000  80000.000000    7.000000    10.000000     0.000000   \n",
       "75%     48.000000  80300.000000    7.000000    15.000000     0.000000   \n",
       "max     61.000000  95320.000000   14.000000    50.000000  1211.000000   \n",
       "\n",
       "        freqDents  freqVaisselle  couvVaisselle     freqMAL      ecoEau  \\\n",
       "count  201.000000     201.000000     201.000000  201.000000  201.000000   \n",
       "mean     1.830846       7.517413       6.875622    9.328358   32.875622   \n",
       "std      0.617449       5.121615       8.940327    8.293470   46.769963   \n",
       "min      0.000000       0.000000       0.000000    0.000000    0.000000   \n",
       "25%      1.000000       3.000000       0.000000    4.000000    0.000000   \n",
       "50%      2.000000       7.000000       0.000000    6.000000    0.000000   \n",
       "75%      2.000000      14.000000      16.000000   12.000000  100.000000   \n",
       "max      3.000000      21.000000      40.000000   31.000000  111.000000   \n",
       "\n",
       "       freqPlante  freqVoiture  volumePiscine  \n",
       "count  201.000000   201.000000     201.000000  \n",
       "mean     4.258706     0.950249       2.855721  \n",
       "std      7.825774     1.267877      12.428760  \n",
       "min      0.000000     0.000000       0.000000  \n",
       "25%      0.000000     0.000000       0.000000  \n",
       "50%      0.000000     1.000000       0.000000  \n",
       "75%      6.000000     1.000000       0.000000  \n",
       "max     30.000000     8.000000      80.000000  "
      ]
     },
     "execution_count": 3,
     "metadata": {},
     "output_type": "execute_result"
    }
   ],
   "source": [
    "df.describe()"
   ]
  },
  {
   "cell_type": "code",
   "execution_count": 4,
   "metadata": {},
   "outputs": [
    {
     "data": {
      "text/plain": [
       "mail              0\n",
       "age               0\n",
       "sexe              0\n",
       "ville             0\n",
       "cp                0\n",
       "freqDouche        0\n",
       "tempsDouche       0\n",
       "debitDouche       0\n",
       "freqBain          0\n",
       "rempBain          0\n",
       "freqDents         0\n",
       "eauDents          0\n",
       "freqVaisselle     0\n",
       "choixVaisselle    0\n",
       "methVaisselle     0\n",
       "couvVaisselle     0\n",
       "freqMAL           0\n",
       "dateMAL           0\n",
       "ecoEau            0\n",
       "plante            0\n",
       "momentPlante      0\n",
       "eauPlante         0\n",
       "freqPlante        0\n",
       "voiture           0\n",
       "methVoiture       0\n",
       "freqVoiture       0\n",
       "piscine           0\n",
       "freqPiscine       0\n",
       "volumePiscine     0\n",
       "etiquette         0\n",
       "bouteille         0\n",
       "dtype: int64"
      ]
     },
     "execution_count": 4,
     "metadata": {},
     "output_type": "execute_result"
    }
   ],
   "source": [
    "df.isna().sum()"
   ]
  },
  {
   "cell_type": "code",
   "execution_count": 5,
   "metadata": {},
   "outputs": [
    {
     "data": {
      "text/plain": [
       "<matplotlib.axes._subplots.AxesSubplot at 0x18e26cf0>"
      ]
     },
     "execution_count": 5,
     "metadata": {},
     "output_type": "execute_result"
    },
    {
     "data": {
      "image/png": "[encoded data removed]",
      "text/plain": [
       "<Figure size 432x288 with 1 Axes>"
      ]
     },
     "metadata": {
      "needs_background": "light"
     },
     "output_type": "display_data"
    }
   ],
   "source": [
    "df.sexe.value_counts().plot.bar()"
   ]
  },
  {
   "cell_type": "code",
   "execution_count": 38,
   "metadata": {},
   "outputs": [
    {
     "data": {
      "text/plain": [
       "<matplotlib.axes._subplots.AxesSubplot at 0x8a3e30>"
      ]
     },
     "execution_count": 38,
     "metadata": {},
     "output_type": "execute_result"
    },
    {
     "data": {
      "image/png": "[encoded data removed]",
      "text/plain": [
       "<Figure size 432x288 with 1 Axes>"
      ]
     },
     "metadata": {},
     "output_type": "display_data"
    }
   ],
   "source": [
    "df.sexe.value_counts().plot.pie(autopct='%1.1f%%')"
   ]
  },
  {
   "cell_type": "code",
   "execution_count": 6,
   "metadata": {},
   "outputs": [
    {
     "data": {
      "text/plain": [
       "<matplotlib.axes._subplots.AxesSubplot at 0x19eb7730>"
      ]
     },
     "execution_count": 6,
     "metadata": {},
     "output_type": "execute_result"
    },
    {
     "data": {
      "image/png": "[encoded data removed]",
      "text/plain": [
       "<Figure size 432x288 with 1 Axes>"
      ]
     },
     "metadata": {
      "needs_background": "light"
     },
     "output_type": "display_data"
    }
   ],
   "source": [
    "df.choixVaisselle.value_counts().plot.bar()"
   ]
  },
  {
   "cell_type": "code",
   "execution_count": 7,
   "metadata": {},
   "outputs": [
    {
     "data": {
      "text/plain": [
       "<matplotlib.axes._subplots.AxesSubplot at 0x19efb350>"
      ]
     },
     "execution_count": 7,
     "metadata": {},
     "output_type": "execute_result"
    },
    {
     "data": {
      "image/png": "[encoded data removed]",
      "text/plain": [
       "<Figure size 432x288 with 1 Axes>"
      ]
     },
     "metadata": {
      "needs_background": "light"
     },
     "output_type": "display_data"
    }
   ],
   "source": [
    "df.freqVaisselle.value_counts().plot.bar()"
   ]
  },
  {
   "cell_type": "code",
   "execution_count": 8,
   "metadata": {},
   "outputs": [
    {
     "data": {
      "text/plain": [
       "<matplotlib.axes._subplots.AxesSubplot at 0x19f53750>"
      ]
     },
     "execution_count": 8,
     "metadata": {},
     "output_type": "execute_result"
    },
    {
     "data": {
      "image/png": "[encoded data removed]",
      "text/plain": [
       "<Figure size 432x288 with 1 Axes>"
      ]
     },
     "metadata": {
      "needs_background": "light"
     },
     "output_type": "display_data"
    }
   ],
   "source": [
    "sns.countplot(x=\"freqVaisselle\", hue=\"sexe\", data=df)"
   ]
  },
  {
   "cell_type": "code",
   "execution_count": 9,
   "metadata": {},
   "outputs": [
    {
     "data": {
      "text/plain": [
       "<matplotlib.axes._subplots.AxesSubplot at 0x19feb1b0>"
      ]
     },
     "execution_count": 9,
     "metadata": {},
     "output_type": "execute_result"
    },
    {
     "data": {
      "image/png": "[encoded data removed]",
      "text/plain": [
       "<Figure size 432x288 with 1 Axes>"
      ]
     },
     "metadata": {
      "needs_background": "light"
     },
     "output_type": "display_data"
    }
   ],
   "source": [
    "df[df.choixVaisselle == \"main\"].methVaisselle.value_counts().plot.bar()"
   ]
  },
  {
   "cell_type": "code",
   "execution_count": 10,
   "metadata": {},
   "outputs": [
    {
     "data": {
      "text/plain": [
       "<matplotlib.axes._subplots.AxesSubplot at 0x1a037630>"
      ]
     },
     "execution_count": 10,
     "metadata": {},
     "output_type": "execute_result"
    },
    {
     "data": {
      "image/png": "[encoded data removed]",
      "text/plain": [
       "<Figure size 432x288 with 1 Axes>"
      ]
     },
     "metadata": {
      "needs_background": "light"
     },
     "output_type": "display_data"
    }
   ],
   "source": [
    "df[df.couvVaisselle > 0].couvVaisselle.value_counts().plot.bar()"
   ]
  },
  {
   "cell_type": "code",
   "execution_count": 11,
   "metadata": {},
   "outputs": [
    {
     "data": {
      "text/plain": [
       "<matplotlib.axes._subplots.AxesSubplot at 0x1a08c530>"
      ]
     },
     "execution_count": 11,
     "metadata": {},
     "output_type": "execute_result"
    },
    {
     "data": {
      "image/png": "[encoded data removed]",
      "text/plain": [
       "<Figure size 432x288 with 1 Axes>"
      ]
     },
     "metadata": {
      "needs_background": "light"
     },
     "output_type": "display_data"
    }
   ],
   "source": [
    "df.dateMAL.value_counts().plot.bar()"
   ]
  },
  {
   "cell_type": "code",
   "execution_count": 12,
   "metadata": {},
   "outputs": [
    {
     "data": {
      "text/plain": [
       "<matplotlib.axes._subplots.AxesSubplot at 0x1a0c9390>"
      ]
     },
     "execution_count": 12,
     "metadata": {},
     "output_type": "execute_result"
    },
    {
     "data": {
      "image/png": "[encoded data removed]",
      "text/plain": [
       "<Figure size 432x288 with 1 Axes>"
      ]
     },
     "metadata": {
      "needs_background": "light"
     },
     "output_type": "display_data"
    }
   ],
   "source": [
    "df.freqMAL.value_counts().plot.bar()"
   ]
  },
  {
   "cell_type": "code",
   "execution_count": 13,
   "metadata": {},
   "outputs": [
    {
     "data": {
      "text/plain": [
       "<matplotlib.axes._subplots.AxesSubplot at 0x1a1343f0>"
      ]
     },
     "execution_count": 13,
     "metadata": {},
     "output_type": "execute_result"
    },
    {
     "data": {
      "image/png": "[encoded data removed]",
      "text/plain": [
       "<Figure size 432x288 with 1 Axes>"
      ]
     },
     "metadata": {
      "needs_background": "light"
     },
     "output_type": "display_data"
    }
   ],
   "source": [
    "sns.countplot(x=\"freqMAL\", hue=\"sexe\", data=df)"
   ]
  },
  {
   "cell_type": "code",
   "execution_count": 14,
   "metadata": {},
   "outputs": [],
   "source": [
    "df.insert(column = 'Mitigeur',value = 0,loc = 31)\n",
    "df.insert(column = 'Recuperateur',value = 0,loc = 32)\n",
    "df.insert(column = 'Chasse',value = 0,loc = 33)"
   ]
  },
  {
   "cell_type": "code",
   "execution_count": 15,
   "metadata": {},
   "outputs": [],
   "source": [
    "df.Mitigeur[df.ecoEau == 0] = \"non\"\n",
    "df.Mitigeur[df.ecoEau == 1] = \"non\"\n",
    "df.Mitigeur[df.ecoEau == 10] = \"non\"\n",
    "df.Mitigeur[df.ecoEau == 11] = \"non\"\n",
    "df.Mitigeur[df.ecoEau == 100] = \"oui\"\n",
    "df.Mitigeur[df.ecoEau == 101] = \"oui\"\n",
    "df.Mitigeur[df.ecoEau == 110] = \"oui\"\n",
    "df.Mitigeur[df.ecoEau == 111] = \"oui\"\n",
    "\n",
    "df.Recuperateur[df.ecoEau == 0] = \"non\"\n",
    "df.Recuperateur[df.ecoEau == 1] = \"non\"\n",
    "df.Recuperateur[df.ecoEau == 10] = \"oui\"\n",
    "df.Recuperateur[df.ecoEau == 11] = \"oui\"\n",
    "df.Recuperateur[df.ecoEau == 100] = \"non\"\n",
    "df.Recuperateur[df.ecoEau == 101] = \"non\"\n",
    "df.Recuperateur[df.ecoEau == 110] = \"oui\"\n",
    "df.Recuperateur[df.ecoEau == 111] = \"oui\"\n",
    "\n",
    "df.Chasse[df.ecoEau == 0] = \"non\"\n",
    "df.Chasse[df.ecoEau == 1] = \"oui\"\n",
    "df.Chasse[df.ecoEau == 10] = \"non\"\n",
    "df.Chasse[df.ecoEau == 11] = \"oui\"\n",
    "df.Chasse[df.ecoEau == 100] = \"non\"\n",
    "df.Chasse[df.ecoEau == 101] = \"oui\"\n",
    "df.Chasse[df.ecoEau == 110] = \"non\"\n",
    "df.Chasse[df.ecoEau == 111] = \"oui\"\n",
    "#mitigeur / recuperateur d'eau de pluis / chasse d'eau eco"
   ]
  },
  {
   "cell_type": "code",
   "execution_count": 16,
   "metadata": {},
   "outputs": [
    {
     "data": {
      "text/html": [
       "<div>\n",
       "<style scoped>\n",
       "    .dataframe tbody tr th:only-of-type {\n",
       "        vertical-align: middle;\n",
       "    }\n",
       "\n",
       "    .dataframe tbody tr th {\n",
       "        vertical-align: top;\n",
       "    }\n",
       "\n",
       "    .dataframe thead th {\n",
       "        text-align: right;\n",
       "    }\n",
       "</style>\n",
       "<table border=\"1\" class=\"dataframe\">\n",
       "  <thead>\n",
       "    <tr style=\"text-align: right;\">\n",
       "      <th></th>\n",
       "      <th>mail</th>\n",
       "      <th>age</th>\n",
       "      <th>sexe</th>\n",
       "      <th>ville</th>\n",
       "      <th>cp</th>\n",
       "      <th>freqDouche</th>\n",
       "      <th>tempsDouche</th>\n",
       "      <th>debitDouche</th>\n",
       "      <th>freqBain</th>\n",
       "      <th>rempBain</th>\n",
       "      <th>...</th>\n",
       "      <th>methVoiture</th>\n",
       "      <th>freqVoiture</th>\n",
       "      <th>piscine</th>\n",
       "      <th>freqPiscine</th>\n",
       "      <th>volumePiscine</th>\n",
       "      <th>etiquette</th>\n",
       "      <th>bouteille</th>\n",
       "      <th>Mitigeur</th>\n",
       "      <th>Recuperateur</th>\n",
       "      <th>Chasse</th>\n",
       "    </tr>\n",
       "    <tr>\n",
       "      <th>id</th>\n",
       "      <th></th>\n",
       "      <th></th>\n",
       "      <th></th>\n",
       "      <th></th>\n",
       "      <th></th>\n",
       "      <th></th>\n",
       "      <th></th>\n",
       "      <th></th>\n",
       "      <th></th>\n",
       "      <th></th>\n",
       "      <th></th>\n",
       "      <th></th>\n",
       "      <th></th>\n",
       "      <th></th>\n",
       "      <th></th>\n",
       "      <th></th>\n",
       "      <th></th>\n",
       "      <th></th>\n",
       "      <th></th>\n",
       "      <th></th>\n",
       "      <th></th>\n",
       "    </tr>\n",
       "  </thead>\n",
       "  <tbody>\n",
       "    <tr>\n",
       "      <th>69</th>\n",
       "      <td>hugo.gomez@hetic.net</td>\n",
       "      <td>21</td>\n",
       "      <td>homme</td>\n",
       "      <td>Saint Leu la Foret</td>\n",
       "      <td>95320</td>\n",
       "      <td>7</td>\n",
       "      <td>13</td>\n",
       "      <td>fort</td>\n",
       "      <td>0</td>\n",
       "      <td>oui</td>\n",
       "      <td>...</td>\n",
       "      <td>manuel</td>\n",
       "      <td>1</td>\n",
       "      <td>non</td>\n",
       "      <td>non</td>\n",
       "      <td>0</td>\n",
       "      <td>non</td>\n",
       "      <td>bouteille</td>\n",
       "      <td>non</td>\n",
       "      <td>non</td>\n",
       "      <td>non</td>\n",
       "    </tr>\n",
       "  </tbody>\n",
       "</table>\n",
       "<p>1 rows × 34 columns</p>\n",
       "</div>"
      ],
      "text/plain": [
       "                    mail  age   sexe               ville     cp  freqDouche  \\\n",
       "id                                                                            \n",
       "69  hugo.gomez@hetic.net   21  homme  Saint Leu la Foret  95320           7   \n",
       "\n",
       "    tempsDouche debitDouche  freqBain rempBain  ...    methVoiture  \\\n",
       "id                                              ...                  \n",
       "69           13        fort         0      oui  ...         manuel   \n",
       "\n",
       "   freqVoiture  piscine freqPiscine volumePiscine  etiquette  bouteille  \\\n",
       "id                                                                        \n",
       "69           1      non         non             0        non  bouteille   \n",
       "\n",
       "   Mitigeur  Recuperateur Chasse  \n",
       "id                                \n",
       "69      non           non    non  \n",
       "\n",
       "[1 rows x 34 columns]"
      ]
     },
     "execution_count": 16,
     "metadata": {},
     "output_type": "execute_result"
    }
   ],
   "source": [
    "df.head(1)"
   ]
  },
  {
   "cell_type": "code",
   "execution_count": 17,
   "metadata": {},
   "outputs": [
    {
     "data": {
      "text/plain": [
       "<matplotlib.axes._subplots.AxesSubplot at 0x1a1da3f0>"
      ]
     },
     "execution_count": 17,
     "metadata": {},
     "output_type": "execute_result"
    },
    {
     "data": {
      "image/png": "[encoded data removed]",
      "text/plain": [
       "<Figure size 432x288 with 1 Axes>"
      ]
     },
     "metadata": {
      "needs_background": "light"
     },
     "output_type": "display_data"
    }
   ],
   "source": [
    "df.Mitigeur.value_counts().plot.bar()"
   ]
  },
  {
   "cell_type": "code",
   "execution_count": 18,
   "metadata": {},
   "outputs": [
    {
     "data": {
      "text/plain": [
       "<matplotlib.axes._subplots.AxesSubplot at 0x1a0b5bb0>"
      ]
     },
     "execution_count": 18,
     "metadata": {},
     "output_type": "execute_result"
    },
    {
     "data": {
      "image/png": "[encoded data removed]",
      "text/plain": [
       "<Figure size 432x288 with 1 Axes>"
      ]
     },
     "metadata": {
      "needs_background": "light"
     },
     "output_type": "display_data"
    }
   ],
   "source": [
    "df.Recuperateur.value_counts().plot.bar()"
   ]
  },
  {
   "cell_type": "code",
   "execution_count": 19,
   "metadata": {},
   "outputs": [
    {
     "data": {
      "text/plain": [
       "<matplotlib.axes._subplots.AxesSubplot at 0x1a22bdb0>"
      ]
     },
     "execution_count": 19,
     "metadata": {},
     "output_type": "execute_result"
    },
    {
     "data": {
      "image/png": "[encoded data removed]",
      "text/plain": [
       "<Figure size 432x288 with 1 Axes>"
      ]
     },
     "metadata": {
      "needs_background": "light"
     },
     "output_type": "display_data"
    }
   ],
   "source": [
    "df.Chasse.value_counts().plot.bar()"
   ]
  },
  {
   "cell_type": "code",
   "execution_count": 20,
   "metadata": {},
   "outputs": [
    {
     "data": {
      "text/plain": [
       "<matplotlib.axes._subplots.AxesSubplot at 0x1a26ecb0>"
      ]
     },
     "execution_count": 20,
     "metadata": {},
     "output_type": "execute_result"
    },
    {
     "data": {
      "image/png": "[encoded data removed]",
      "text/plain": [
       "<Figure size 432x288 with 1 Axes>"
      ]
     },
     "metadata": {
      "needs_background": "light"
     },
     "output_type": "display_data"
    }
   ],
   "source": [
    "df.plante.value_counts().plot.bar()"
   ]
  },
  {
   "cell_type": "code",
   "execution_count": 21,
   "metadata": {},
   "outputs": [
    {
     "data": {
      "text/plain": [
       "<matplotlib.axes._subplots.AxesSubplot at 0x1a28bcf0>"
      ]
     },
     "execution_count": 21,
     "metadata": {},
     "output_type": "execute_result"
    },
    {
     "data": {
      "image/png": "[encoded data removed]",
      "text/plain": [
       "<Figure size 432x288 with 1 Axes>"
      ]
     },
     "metadata": {
      "needs_background": "light"
     },
     "output_type": "display_data"
    }
   ],
   "source": [
    "df[df.plante == \"oui\"].momentPlante.value_counts().plot.bar()"
   ]
  },
  {
   "cell_type": "code",
   "execution_count": 22,
   "metadata": {},
   "outputs": [
    {
     "data": {
      "text/plain": [
       "<matplotlib.axes._subplots.AxesSubplot at 0x1a2dfe10>"
      ]
     },
     "execution_count": 22,
     "metadata": {},
     "output_type": "execute_result"
    },
    {
     "data": {
      "image/png": "[encoded data removed]",
      "text/plain": [
       "<Figure size 432x288 with 1 Axes>"
      ]
     },
     "metadata": {
      "needs_background": "light"
     },
     "output_type": "display_data"
    }
   ],
   "source": [
    "df[df.plante == \"oui\"].eauPlante.value_counts().plot.bar()"
   ]
  },
  {
   "cell_type": "code",
   "execution_count": 23,
   "metadata": {},
   "outputs": [
    {
     "data": {
      "text/plain": [
       "<matplotlib.axes._subplots.AxesSubplot at 0x1a328bb0>"
      ]
     },
     "execution_count": 23,
     "metadata": {},
     "output_type": "execute_result"
    },
    {
     "data": {
      "image/png": "[encoded data removed]",
      "text/plain": [
       "<Figure size 432x288 with 1 Axes>"
      ]
     },
     "metadata": {
      "needs_background": "light"
     },
     "output_type": "display_data"
    }
   ],
   "source": [
    "df[df.plante == \"oui\"].freqPlante.value_counts().plot.bar()"
   ]
  },
  {
   "cell_type": "code",
   "execution_count": 24,
   "metadata": {},
   "outputs": [
    {
     "data": {
      "text/plain": [
       "<matplotlib.axes._subplots.AxesSubplot at 0x1a3644b0>"
      ]
     },
     "execution_count": 24,
     "metadata": {},
     "output_type": "execute_result"
    },
    {
     "data": {
      "image/png": "[encoded data removed]",
      "text/plain": [
       "<Figure size 432x288 with 1 Axes>"
      ]
     },
     "metadata": {
      "needs_background": "light"
     },
     "output_type": "display_data"
    }
   ],
   "source": [
    "df.etiquette.value_counts().plot.bar()"
   ]
  },
  {
   "cell_type": "code",
   "execution_count": 25,
   "metadata": {},
   "outputs": [
    {
     "data": {
      "text/plain": [
       "<matplotlib.axes._subplots.AxesSubplot at 0x1a3b7b30>"
      ]
     },
     "execution_count": 25,
     "metadata": {},
     "output_type": "execute_result"
    },
    {
     "data": {
      "image/png": "[encoded data removed]",
      "text/plain": [
       "<Figure size 432x288 with 1 Axes>"
      ]
     },
     "metadata": {
      "needs_background": "light"
     },
     "output_type": "display_data"
    }
   ],
   "source": [
    "df.bouteille.value_counts().plot.bar()"
   ]
  },
  {
   "cell_type": "code",
   "execution_count": 26,
   "metadata": {},
   "outputs": [],
   "source": [
    "df.insert(column = 'dpt',value = 0,loc = 34)"
   ]
  },
  {
   "cell_type": "code",
   "execution_count": 34,
   "metadata": {},
   "outputs": [
    {
     "data": {
      "text/html": [
       "<div>\n",
       "<style scoped>\n",
       "    .dataframe tbody tr th:only-of-type {\n",
       "        vertical-align: middle;\n",
       "    }\n",
       "\n",
       "    .dataframe tbody tr th {\n",
       "        vertical-align: top;\n",
       "    }\n",
       "\n",
       "    .dataframe thead th {\n",
       "        text-align: right;\n",
       "    }\n",
       "</style>\n",
       "<table border=\"1\" class=\"dataframe\">\n",
       "  <thead>\n",
       "    <tr style=\"text-align: right;\">\n",
       "      <th></th>\n",
       "      <th>mail</th>\n",
       "      <th>age</th>\n",
       "      <th>sexe</th>\n",
       "      <th>ville</th>\n",
       "      <th>cp</th>\n",
       "      <th>freqDouche</th>\n",
       "      <th>tempsDouche</th>\n",
       "      <th>debitDouche</th>\n",
       "      <th>freqBain</th>\n",
       "      <th>rempBain</th>\n",
       "      <th>...</th>\n",
       "      <th>freqVoiture</th>\n",
       "      <th>piscine</th>\n",
       "      <th>freqPiscine</th>\n",
       "      <th>volumePiscine</th>\n",
       "      <th>etiquette</th>\n",
       "      <th>bouteille</th>\n",
       "      <th>Mitigeur</th>\n",
       "      <th>Recuperateur</th>\n",
       "      <th>Chasse</th>\n",
       "      <th>dpt</th>\n",
       "    </tr>\n",
       "    <tr>\n",
       "      <th>id</th>\n",
       "      <th></th>\n",
       "      <th></th>\n",
       "      <th></th>\n",
       "      <th></th>\n",
       "      <th></th>\n",
       "      <th></th>\n",
       "      <th></th>\n",
       "      <th></th>\n",
       "      <th></th>\n",
       "      <th></th>\n",
       "      <th></th>\n",
       "      <th></th>\n",
       "      <th></th>\n",
       "      <th></th>\n",
       "      <th></th>\n",
       "      <th></th>\n",
       "      <th></th>\n",
       "      <th></th>\n",
       "      <th></th>\n",
       "      <th></th>\n",
       "      <th></th>\n",
       "    </tr>\n",
       "  </thead>\n",
       "  <tbody>\n",
       "    <tr>\n",
       "      <th>69</th>\n",
       "      <td>hugo.gomez@hetic.net</td>\n",
       "      <td>21</td>\n",
       "      <td>homme</td>\n",
       "      <td>Saint Leu la Foret</td>\n",
       "      <td>95320</td>\n",
       "      <td>7</td>\n",
       "      <td>13</td>\n",
       "      <td>fort</td>\n",
       "      <td>0</td>\n",
       "      <td>oui</td>\n",
       "      <td>...</td>\n",
       "      <td>1</td>\n",
       "      <td>non</td>\n",
       "      <td>non</td>\n",
       "      <td>0</td>\n",
       "      <td>non</td>\n",
       "      <td>bouteille</td>\n",
       "      <td>non</td>\n",
       "      <td>non</td>\n",
       "      <td>non</td>\n",
       "      <td>95.0</td>\n",
       "    </tr>\n",
       "  </tbody>\n",
       "</table>\n",
       "<p>1 rows × 35 columns</p>\n",
       "</div>"
      ],
      "text/plain": [
       "                    mail  age   sexe               ville     cp  freqDouche  \\\n",
       "id                                                                            \n",
       "69  hugo.gomez@hetic.net   21  homme  Saint Leu la Foret  95320           7   \n",
       "\n",
       "    tempsDouche debitDouche  freqBain rempBain  ...   freqVoiture piscine  \\\n",
       "id                                              ...                         \n",
       "69           13        fort         0      oui  ...             1     non   \n",
       "\n",
       "    freqPiscine volumePiscine etiquette  bouteille  Mitigeur Recuperateur  \\\n",
       "id                                                                          \n",
       "69          non             0       non  bouteille       non          non   \n",
       "\n",
       "    Chasse   dpt  \n",
       "id                \n",
       "69     non  95.0  \n",
       "\n",
       "[1 rows x 35 columns]"
      ]
     },
     "execution_count": 34,
     "metadata": {},
     "output_type": "execute_result"
    }
   ],
   "source": [
    "df.dpt[df.cp > 0] = (df.cp / 1000)-((df.cp / 1000)%1)\n",
    "df.head(1)"
   ]
  },
  {
   "cell_type": "code",
   "execution_count": 35,
   "metadata": {},
   "outputs": [
    {
     "data": {
      "text/plain": [
       "<matplotlib.axes._subplots.AxesSubplot at 0x1a43a770>"
      ]
     },
     "execution_count": 35,
     "metadata": {},
     "output_type": "execute_result"
    },
    {
     "data": {
      "image/png": "[encoded data removed]",
      "text/plain": [
       "<Figure size 432x288 with 1 Axes>"
      ]
     },
     "metadata": {
      "needs_background": "light"
     },
     "output_type": "display_data"
    }
   ],
   "source": [
    "df.dpt.value_counts().plot.bar()"
   ]
  },
  {
   "cell_type": "code",
   "execution_count": 37,
   "metadata": {
    "scrolled": true
   },
   "outputs": [
    {
     "data": {
      "text/plain": [
       "<matplotlib.axes._subplots.AxesSubplot at 0x927230>"
      ]
     },
     "execution_count": 37,
     "metadata": {},
     "output_type": "execute_result"
    },
    {
     "data": {
      "image/png": "[encoded data removed]",
      "text/plain": [
       "<Figure size 432x288 with 1 Axes>"
      ]
     },
     "metadata": {
      "needs_background": "light"
     },
     "output_type": "display_data"
    }
   ],
   "source": [
    "df.age.plot.hist()"
   ]
  },
  {
   "cell_type": "code",
   "execution_count": 38,
   "metadata": {
    "scrolled": false
   },
   "outputs": [
    {
     "data": {
      "text/plain": [
       "<matplotlib.axes._subplots.AxesSubplot at 0x1a1ca29390>"
      ]
     },
     "execution_count": 38,
     "metadata": {},
     "output_type": "execute_result"
    },
    {
     "data": {
      "image/png": "[encoded data removed]",
      "text/plain": [
       "<Figure size 432x288 with 1 Axes>"
      ]
     },
     "metadata": {
      "needs_background": "light"
     },
     "output_type": "display_data"
    }
   ],
   "source": [
    "df.freqDouche.plot.hist(12)"
   ]
  },
  {
   "cell_type": "code",
   "execution_count": 37,
   "metadata": {
    "scrolled": true
   },
   "outputs": [
    {
     "data": {
      "text/plain": [
       "<matplotlib.axes._subplots.AxesSubplot at 0x1a1c876048>"
      ]
     },
     "execution_count": 37,
     "metadata": {},
     "output_type": "execute_result"
    },
    {
     "data": {
      "image/png": "[encoded data removed]",
      "text/plain": [
       "<Figure size 432x288 with 1 Axes>"
      ]
     },
     "metadata": {
      "needs_background": "light"
     },
     "output_type": "display_data"
    }
   ],
   "source": [
    "sns.countplot(x=\"tempsDouche\", hue=\"sexe\", data=df)"
   ]
  },
  {
   "cell_type": "code",
   "execution_count": 62,
   "metadata": {},
   "outputs": [
    {
     "data": {
      "text/plain": [
       "<seaborn.axisgrid.FacetGrid at 0x1a1d3d2f98>"
      ]
     },
     "execution_count": 62,
     "metadata": {},
     "output_type": "execute_result"
    },
    {
     "data": {
      "image/png": "[encoded data removed]",
      "text/plain": [
       "<Figure size 360x360 with 1 Axes>"
      ]
     },
     "metadata": {
      "needs_background": "light"
     },
     "output_type": "display_data"
    }
   ],
   "source": [
    "sns.catplot(x=\"sexe\", y=\"tempsDouche\", data=df, kind=\"box\")"
   ]
  },
  {
   "cell_type": "code",
   "execution_count": 40,
   "metadata": {},
   "outputs": [
    {
     "data": {
      "text/plain": [
       "<matplotlib.axes._subplots.AxesSubplot at 0x1a1ca212e8>"
      ]
     },
     "execution_count": 40,
     "metadata": {},
     "output_type": "execute_result"
    },
    {
     "data": {
      "image/png": "[encoded data removed]",
      "text/plain": [
       "<Figure size 432x288 with 1 Axes>"
      ]
     },
     "metadata": {
      "needs_background": "light"
     },
     "output_type": "display_data"
    }
   ],
   "source": [
    "df.debitDouche.value_counts().plot.bar()"
   ]
  },
  {
   "cell_type": "code",
   "execution_count": 41,
   "metadata": {},
   "outputs": [
    {
     "data": {
      "text/plain": [
       "<matplotlib.axes._subplots.AxesSubplot at 0x1a1ccbe518>"
      ]
     },
     "execution_count": 41,
     "metadata": {},
     "output_type": "execute_result"
    },
    {
     "data": {
      "image/png": "[encoded data removed]",
      "text/plain": [
       "<Figure size 432x288 with 1 Axes>"
      ]
     },
     "metadata": {
      "needs_background": "light"
     },
     "output_type": "display_data"
    }
   ],
   "source": [
    "df.freqBain.value_counts().plot.bar()"
   ]
  },
  {
   "cell_type": "code",
   "execution_count": 76,
   "metadata": {},
   "outputs": [
    {
     "data": {
      "image/png": "[encoded data removed]",
      "text/plain": [
       "<Figure size 432x288 with 1 Axes>"
      ]
     },
     "metadata": {},
     "output_type": "display_data"
    }
   ],
   "source": [
    "temp1 = df['freqBain'].count()\n",
    "temp2 = df[df['freqBain'] == 0]['freqBain'].count()\n",
    "temp3 = df[df['freqBain'] != 0]['freqBain'].count()\n",
    "\n",
    "plt.pie([temp2/temp1*100, temp3/temp1*100], explode=(0, 0), labels=['Ne prend pas de bain', 'Prend au moins un bain'], autopct='%1.1f%%')\n",
    "plt.axis('equal')\n",
    "plt.show()"
   ]
  },
  {
   "cell_type": "code",
   "execution_count": 58,
   "metadata": {},
   "outputs": [
    {
     "data": {
      "text/plain": [
       "<matplotlib.axes._subplots.AxesSubplot at 0x1a1d3da828>"
      ]
     },
     "execution_count": 58,
     "metadata": {},
     "output_type": "execute_result"
    },
    {
     "data": {
      "image/png": "[encoded data removed]",
      "text/plain": [
       "<Figure size 432x288 with 1 Axes>"
      ]
     },
     "metadata": {
      "needs_background": "light"
     },
     "output_type": "display_data"
    }
   ],
   "source": [
    "df[df['freqBain'] != 0]['rempBain'].value_counts().plot.bar()"
   ]
  },
  {
   "cell_type": "code",
   "execution_count": 60,
   "metadata": {
    "scrolled": true
   },
   "outputs": [
    {
     "data": {
      "text/plain": [
       "<matplotlib.axes._subplots.AxesSubplot at 0x1a1d6e0630>"
      ]
     },
     "execution_count": 60,
     "metadata": {},
     "output_type": "execute_result"
    },
    {
     "data": {
      "image/png": "[encoded data removed]",
      "text/plain": [
       "<Figure size 432x288 with 1 Axes>"
      ]
     },
     "metadata": {
      "needs_background": "light"
     },
     "output_type": "display_data"
    }
   ],
   "source": [
    "df.freqDents.value_counts().plot.bar()"
   ]
  },
  {
   "cell_type": "code",
   "execution_count": 61,
   "metadata": {},
   "outputs": [
    {
     "data": {
      "text/plain": [
       "<matplotlib.axes._subplots.AxesSubplot at 0x1a1d7e29e8>"
      ]
     },
     "execution_count": 61,
     "metadata": {},
     "output_type": "execute_result"
    },
    {
     "data": {
      "image/png": "[encoded data removed]",
      "text/plain": [
       "<Figure size 432x288 with 1 Axes>"
      ]
     },
     "metadata": {
      "needs_background": "light"
     },
     "output_type": "display_data"
    }
   ],
   "source": [
    "df.eauDents.value_counts().plot.bar()"
   ]
  },
  {
   "cell_type": "code",
   "execution_count": 63,
   "metadata": {},
   "outputs": [
    {
     "data": {
      "text/plain": [
       "<matplotlib.axes._subplots.AxesSubplot at 0x1a1da5f0b8>"
      ]
     },
     "execution_count": 63,
     "metadata": {},
     "output_type": "execute_result"
    },
    {
     "data": {
      "image/png": "[encoded data removed]",
      "text/plain": [
       "<Figure size 432x288 with 1 Axes>"
      ]
     },
     "metadata": {
      "needs_background": "light"
     },
     "output_type": "display_data"
    }
   ],
   "source": [
    "df.voiture.value_counts().plot.bar()"
   ]
  },
  {
   "cell_type": "code",
   "execution_count": 64,
   "metadata": {},
   "outputs": [
    {
     "data": {
      "text/plain": [
       "<matplotlib.axes._subplots.AxesSubplot at 0x1a1db265c0>"
      ]
     },
     "execution_count": 64,
     "metadata": {},
     "output_type": "execute_result"
    },
    {
     "data": {
      "image/png": "[encoded data removed]",
      "text/plain": [
       "<Figure size 432x288 with 1 Axes>"
      ]
     },
     "metadata": {
      "needs_background": "light"
     },
     "output_type": "display_data"
    }
   ],
   "source": [
    "df[df['voiture'] == 'oui'].methVoiture.value_counts().plot.bar()"
   ]
  },
  {
   "cell_type": "code",
   "execution_count": 67,
   "metadata": {},
   "outputs": [
    {
     "data": {
      "text/plain": [
       "<matplotlib.axes._subplots.AxesSubplot at 0x1a1dc83160>"
      ]
     },
     "execution_count": 67,
     "metadata": {},
     "output_type": "execute_result"
    },
    {
     "data": {
      "image/png": "[encoded data removed]",
      "text/plain": [
       "<Figure size 432x288 with 1 Axes>"
      ]
     },
     "metadata": {
      "needs_background": "light"
     },
     "output_type": "display_data"
    }
   ],
   "source": [
    "df[df['voiture'] == 'oui'].freqVoiture.plot.hist(8)"
   ]
  },
  {
   "cell_type": "code",
   "execution_count": 68,
   "metadata": {},
   "outputs": [
    {
     "data": {
      "text/plain": [
       "<matplotlib.axes._subplots.AxesSubplot at 0x1a1dede668>"
      ]
     },
     "execution_count": 68,
     "metadata": {},
     "output_type": "execute_result"
    },
    {
     "data": {
      "image/png": "[encoded data removed]",
      "text/plain": [
       "<Figure size 432x288 with 1 Axes>"
      ]
     },
     "metadata": {
      "needs_background": "light"
     },
     "output_type": "display_data"
    }
   ],
   "source": [
    "df.piscine.value_counts().plot.bar()"
   ]
  },
  {
   "cell_type": "code",
   "execution_count": 69,
   "metadata": {},
   "outputs": [
    {
     "data": {
      "text/plain": [
       "<matplotlib.axes._subplots.AxesSubplot at 0x1a1e055400>"
      ]
     },
     "execution_count": 69,
     "metadata": {},
     "output_type": "execute_result"
    },
    {
     "data": {
      "image/png": "[encoded data removed]",
      "text/plain": [
       "<Figure size 432x288 with 1 Axes>"
      ]
     },
     "metadata": {
      "needs_background": "light"
     },
     "output_type": "display_data"
    }
   ],
   "source": [
    "df[df['piscine'] == 'oui'].freqPiscine.value_counts().plot.bar()"
   ]
  },
  {
   "cell_type": "code",
   "execution_count": 75,
   "metadata": {
    "scrolled": true
   },
   "outputs": [
    {
     "data": {
      "text/plain": [
       "<matplotlib.axes._subplots.AxesSubplot at 0x1a1e56e128>"
      ]
     },
     "execution_count": 75,
     "metadata": {},
     "output_type": "execute_result"
    },
    {
     "data": {
      "image/png": "[encoded data removed]",
      "text/plain": [
       "<Figure size 432x288 with 1 Axes>"
      ]
     },
     "metadata": {
      "needs_background": "light"
     },
     "output_type": "display_data"
    }
   ],
   "source": [
    "df[df['piscine'] == 'oui'].volumePiscine.plot.hist(10)"
   ]
  },
  {
   "cell_type": "code",
   "execution_count": null,
   "metadata": {},
   "outputs": [],
   "source": []
  }
 ],
 "metadata": {
  "kernelspec": {
   "display_name": "Python 3",
   "language": "python",
   "name": "python3"
  },
  "language_info": {
   "codemirror_mode": {
    "name": "ipython",
    "version": 3
   },
   "file_extension": ".py",
   "mimetype": "text/x-python",
   "name": "python",
   "nbconvert_exporter": "python",
   "pygments_lexer": "ipython3",
   "version": "3.7.1"
  }
 },
 "nbformat": 4,
 "nbformat_minor": 2
}
