{
 "cells": [
  {
   "cell_type": "code",
   "execution_count": 20,
   "metadata": {},
   "outputs": [],
   "source": [
    "import pandas as pd\n",
    "import numpy as np\n",
    "import seaborn as sns\n",
    "import matplotlib.pyplot as plt\n",
    "%matplotlib inline"
   ]
  },
  {
   "cell_type": "code",
   "execution_count": 27,
   "metadata": {},
   "outputs": [],
   "source": [
    "df = pd.read_csv('data2.csv', index_col=0)"
   ]
  },
  {
   "cell_type": "code",
   "execution_count": 23,
   "metadata": {},
   "outputs": [
    {
     "data": {
      "text/html": [
       "<div>\n",
       "<style scoped>\n",
       "    .dataframe tbody tr th:only-of-type {\n",
       "        vertical-align: middle;\n",
       "    }\n",
       "\n",
       "    .dataframe tbody tr th {\n",
       "        vertical-align: top;\n",
       "    }\n",
       "\n",
       "    .dataframe thead th {\n",
       "        text-align: right;\n",
       "    }\n",
       "</style>\n",
       "<table border=\"1\" class=\"dataframe\">\n",
       "  <thead>\n",
       "    <tr style=\"text-align: right;\">\n",
       "      <th></th>\n",
       "      <th>mail</th>\n",
       "      <th>age</th>\n",
       "      <th>sexe</th>\n",
       "      <th>ville</th>\n",
       "      <th>cp</th>\n",
       "      <th>freqDouche</th>\n",
       "      <th>tempsDouche</th>\n",
       "      <th>debitDouche</th>\n",
       "      <th>freqBain</th>\n",
       "      <th>rempBain</th>\n",
       "      <th>...</th>\n",
       "      <th>eauPlante</th>\n",
       "      <th>freqPlante</th>\n",
       "      <th>voiture</th>\n",
       "      <th>methVoiture</th>\n",
       "      <th>freqVoiture</th>\n",
       "      <th>piscine</th>\n",
       "      <th>freqPiscine</th>\n",
       "      <th>volumePiscine</th>\n",
       "      <th>etiquette</th>\n",
       "      <th>bouteille</th>\n",
       "    </tr>\n",
       "    <tr>\n",
       "      <th>id</th>\n",
       "      <th></th>\n",
       "      <th></th>\n",
       "      <th></th>\n",
       "      <th></th>\n",
       "      <th></th>\n",
       "      <th></th>\n",
       "      <th></th>\n",
       "      <th></th>\n",
       "      <th></th>\n",
       "      <th></th>\n",
       "      <th></th>\n",
       "      <th></th>\n",
       "      <th></th>\n",
       "      <th></th>\n",
       "      <th></th>\n",
       "      <th></th>\n",
       "      <th></th>\n",
       "      <th></th>\n",
       "      <th></th>\n",
       "      <th></th>\n",
       "      <th></th>\n",
       "    </tr>\n",
       "  </thead>\n",
       "  <tbody>\n",
       "    <tr>\n",
       "      <th>69</th>\n",
       "      <td>hugo.gomez@hetic.net</td>\n",
       "      <td>21</td>\n",
       "      <td>homme</td>\n",
       "      <td>Saint Leu la Foret</td>\n",
       "      <td>95320</td>\n",
       "      <td>7</td>\n",
       "      <td>13</td>\n",
       "      <td>fort</td>\n",
       "      <td>0</td>\n",
       "      <td>oui</td>\n",
       "      <td>...</td>\n",
       "      <td>robinet</td>\n",
       "      <td>15</td>\n",
       "      <td>non</td>\n",
       "      <td>manuel</td>\n",
       "      <td>1</td>\n",
       "      <td>non</td>\n",
       "      <td>non</td>\n",
       "      <td>0</td>\n",
       "      <td>non</td>\n",
       "      <td>bouteille</td>\n",
       "    </tr>\n",
       "    <tr>\n",
       "      <th>70</th>\n",
       "      <td>bocquillon.pierre@orange.fr</td>\n",
       "      <td>22</td>\n",
       "      <td>homme</td>\n",
       "      <td>MONTREUIL</td>\n",
       "      <td>93100</td>\n",
       "      <td>7</td>\n",
       "      <td>3</td>\n",
       "      <td>moyen</td>\n",
       "      <td>0</td>\n",
       "      <td>oui</td>\n",
       "      <td>...</td>\n",
       "      <td>robinet</td>\n",
       "      <td>0</td>\n",
       "      <td>oui</td>\n",
       "      <td>automatique</td>\n",
       "      <td>1</td>\n",
       "      <td>non</td>\n",
       "      <td>non</td>\n",
       "      <td>0</td>\n",
       "      <td>non</td>\n",
       "      <td>robinet</td>\n",
       "    </tr>\n",
       "    <tr>\n",
       "      <th>71</th>\n",
       "      <td>jp.marceaux@gmail.com</td>\n",
       "      <td>29</td>\n",
       "      <td>homme</td>\n",
       "      <td>amiens</td>\n",
       "      <td>80000</td>\n",
       "      <td>7</td>\n",
       "      <td>5</td>\n",
       "      <td>fort</td>\n",
       "      <td>1</td>\n",
       "      <td>oui</td>\n",
       "      <td>...</td>\n",
       "      <td>robinet</td>\n",
       "      <td>0</td>\n",
       "      <td>oui</td>\n",
       "      <td>manuel</td>\n",
       "      <td>2</td>\n",
       "      <td>non</td>\n",
       "      <td>non</td>\n",
       "      <td>0</td>\n",
       "      <td>non</td>\n",
       "      <td>bouteille</td>\n",
       "    </tr>\n",
       "    <tr>\n",
       "      <th>72</th>\n",
       "      <td>marie.elise.morena@gmail.com</td>\n",
       "      <td>26</td>\n",
       "      <td>femme</td>\n",
       "      <td>Albert</td>\n",
       "      <td>80300</td>\n",
       "      <td>7</td>\n",
       "      <td>15</td>\n",
       "      <td>moyen</td>\n",
       "      <td>0</td>\n",
       "      <td>oui</td>\n",
       "      <td>...</td>\n",
       "      <td>pluie</td>\n",
       "      <td>8</td>\n",
       "      <td>oui</td>\n",
       "      <td>automatique</td>\n",
       "      <td>1</td>\n",
       "      <td>non</td>\n",
       "      <td>non</td>\n",
       "      <td>0</td>\n",
       "      <td>oui</td>\n",
       "      <td>bouteille</td>\n",
       "    </tr>\n",
       "    <tr>\n",
       "      <th>74</th>\n",
       "      <td>radioman@free.fr</td>\n",
       "      <td>56</td>\n",
       "      <td>homme</td>\n",
       "      <td>Villeneuve en Montagne</td>\n",
       "      <td>71390</td>\n",
       "      <td>7</td>\n",
       "      <td>8</td>\n",
       "      <td>moyen</td>\n",
       "      <td>0</td>\n",
       "      <td>oui</td>\n",
       "      <td>...</td>\n",
       "      <td>pluie</td>\n",
       "      <td>10</td>\n",
       "      <td>oui</td>\n",
       "      <td>manuel</td>\n",
       "      <td>0</td>\n",
       "      <td>non</td>\n",
       "      <td>non</td>\n",
       "      <td>0</td>\n",
       "      <td>oui</td>\n",
       "      <td>robinet</td>\n",
       "    </tr>\n",
       "  </tbody>\n",
       "</table>\n",
       "<p>5 rows × 31 columns</p>\n",
       "</div>"
      ],
      "text/plain": [
       "                            mail  age   sexe                   ville     cp  \\\n",
       "id                                                                            \n",
       "69          hugo.gomez@hetic.net   21  homme      Saint Leu la Foret  95320   \n",
       "70   bocquillon.pierre@orange.fr   22  homme               MONTREUIL  93100   \n",
       "71         jp.marceaux@gmail.com   29  homme                  amiens  80000   \n",
       "72  marie.elise.morena@gmail.com   26  femme                  Albert  80300   \n",
       "74              radioman@free.fr   56  homme  Villeneuve en Montagne  71390   \n",
       "\n",
       "    freqDouche  tempsDouche debitDouche  freqBain rempBain    ...      \\\n",
       "id                                                            ...       \n",
       "69           7           13        fort         0      oui    ...       \n",
       "70           7            3       moyen         0      oui    ...       \n",
       "71           7            5        fort         1      oui    ...       \n",
       "72           7           15       moyen         0      oui    ...       \n",
       "74           7            8       moyen         0      oui    ...       \n",
       "\n",
       "    eauPlante freqPlante  voiture  methVoiture freqVoiture  piscine  \\\n",
       "id                                                                    \n",
       "69    robinet         15      non       manuel           1      non   \n",
       "70    robinet          0      oui  automatique           1      non   \n",
       "71    robinet          0      oui       manuel           2      non   \n",
       "72      pluie          8      oui  automatique           1      non   \n",
       "74      pluie         10      oui       manuel           0      non   \n",
       "\n",
       "    freqPiscine volumePiscine  etiquette  bouteille  \n",
       "id                                                   \n",
       "69          non             0        non  bouteille  \n",
       "70          non             0        non    robinet  \n",
       "71          non             0        non  bouteille  \n",
       "72          non             0        oui  bouteille  \n",
       "74          non             0        oui    robinet  \n",
       "\n",
       "[5 rows x 31 columns]"
      ]
     },
     "execution_count": 23,
     "metadata": {},
     "output_type": "execute_result"
    }
   ],
   "source": [
    "df.head()"
   ]
  },
  {
   "cell_type": "code",
   "execution_count": 24,
   "metadata": {},
   "outputs": [
    {
     "data": {
      "text/html": [
       "<div>\n",
       "<style scoped>\n",
       "    .dataframe tbody tr th:only-of-type {\n",
       "        vertical-align: middle;\n",
       "    }\n",
       "\n",
       "    .dataframe tbody tr th {\n",
       "        vertical-align: top;\n",
       "    }\n",
       "\n",
       "    .dataframe thead th {\n",
       "        text-align: right;\n",
       "    }\n",
       "</style>\n",
       "<table border=\"1\" class=\"dataframe\">\n",
       "  <thead>\n",
       "    <tr style=\"text-align: right;\">\n",
       "      <th></th>\n",
       "      <th>mail</th>\n",
       "      <th>age</th>\n",
       "      <th>sexe</th>\n",
       "      <th>ville</th>\n",
       "      <th>cp</th>\n",
       "      <th>freqDouche</th>\n",
       "      <th>tempsDouche</th>\n",
       "      <th>debitDouche</th>\n",
       "      <th>freqBain</th>\n",
       "      <th>rempBain</th>\n",
       "      <th>...</th>\n",
       "      <th>eauPlante</th>\n",
       "      <th>freqPlante</th>\n",
       "      <th>voiture</th>\n",
       "      <th>methVoiture</th>\n",
       "      <th>freqVoiture</th>\n",
       "      <th>piscine</th>\n",
       "      <th>freqPiscine</th>\n",
       "      <th>volumePiscine</th>\n",
       "      <th>etiquette</th>\n",
       "      <th>bouteille</th>\n",
       "    </tr>\n",
       "    <tr>\n",
       "      <th>id</th>\n",
       "      <th></th>\n",
       "      <th></th>\n",
       "      <th></th>\n",
       "      <th></th>\n",
       "      <th></th>\n",
       "      <th></th>\n",
       "      <th></th>\n",
       "      <th></th>\n",
       "      <th></th>\n",
       "      <th></th>\n",
       "      <th></th>\n",
       "      <th></th>\n",
       "      <th></th>\n",
       "      <th></th>\n",
       "      <th></th>\n",
       "      <th></th>\n",
       "      <th></th>\n",
       "      <th></th>\n",
       "      <th></th>\n",
       "      <th></th>\n",
       "      <th></th>\n",
       "    </tr>\n",
       "  </thead>\n",
       "  <tbody>\n",
       "    <tr>\n",
       "      <th>737</th>\n",
       "      <td>falory.edouard@hotmail.fr</td>\n",
       "      <td>16</td>\n",
       "      <td>femme</td>\n",
       "      <td>Paris</td>\n",
       "      <td>75013</td>\n",
       "      <td>14</td>\n",
       "      <td>5</td>\n",
       "      <td>moyen</td>\n",
       "      <td>0</td>\n",
       "      <td>oui</td>\n",
       "      <td>...</td>\n",
       "      <td>robinet</td>\n",
       "      <td>0</td>\n",
       "      <td>non</td>\n",
       "      <td>automatique</td>\n",
       "      <td>0</td>\n",
       "      <td>non</td>\n",
       "      <td>non</td>\n",
       "      <td>0</td>\n",
       "      <td>oui</td>\n",
       "      <td>robinet</td>\n",
       "    </tr>\n",
       "    <tr>\n",
       "      <th>738</th>\n",
       "      <td>helene-volu@hotmail.fr</td>\n",
       "      <td>25</td>\n",
       "      <td>femme</td>\n",
       "      <td>Paris</td>\n",
       "      <td>75020</td>\n",
       "      <td>2</td>\n",
       "      <td>50</td>\n",
       "      <td>moyen</td>\n",
       "      <td>10</td>\n",
       "      <td>oui</td>\n",
       "      <td>...</td>\n",
       "      <td>robinet</td>\n",
       "      <td>0</td>\n",
       "      <td>oui</td>\n",
       "      <td>automatique</td>\n",
       "      <td>3</td>\n",
       "      <td>non</td>\n",
       "      <td>non</td>\n",
       "      <td>0</td>\n",
       "      <td>oui</td>\n",
       "      <td>bouteille</td>\n",
       "    </tr>\n",
       "    <tr>\n",
       "      <th>739</th>\n",
       "      <td>crisi@club-internet.fr</td>\n",
       "      <td>35</td>\n",
       "      <td>femme</td>\n",
       "      <td>Chatillon</td>\n",
       "      <td>92320</td>\n",
       "      <td>14</td>\n",
       "      <td>7</td>\n",
       "      <td>moyen</td>\n",
       "      <td>0</td>\n",
       "      <td>oui</td>\n",
       "      <td>...</td>\n",
       "      <td>robinet</td>\n",
       "      <td>0</td>\n",
       "      <td>oui</td>\n",
       "      <td>manuel</td>\n",
       "      <td>1</td>\n",
       "      <td>non</td>\n",
       "      <td>non</td>\n",
       "      <td>0</td>\n",
       "      <td>oui</td>\n",
       "      <td>bouteille</td>\n",
       "    </tr>\n",
       "    <tr>\n",
       "      <th>740</th>\n",
       "      <td>boby.tang@hotmail.fr</td>\n",
       "      <td>22</td>\n",
       "      <td>homme</td>\n",
       "      <td>Villepinte</td>\n",
       "      <td>93420</td>\n",
       "      <td>7</td>\n",
       "      <td>12</td>\n",
       "      <td>moyen</td>\n",
       "      <td>0</td>\n",
       "      <td>oui</td>\n",
       "      <td>...</td>\n",
       "      <td>robinet</td>\n",
       "      <td>10</td>\n",
       "      <td>oui</td>\n",
       "      <td>manuel</td>\n",
       "      <td>0</td>\n",
       "      <td>non</td>\n",
       "      <td>non</td>\n",
       "      <td>0</td>\n",
       "      <td>oui</td>\n",
       "      <td>bouteille</td>\n",
       "    </tr>\n",
       "    <tr>\n",
       "      <th>741</th>\n",
       "      <td>oy.youcef@gmail.com</td>\n",
       "      <td>36</td>\n",
       "      <td>homme</td>\n",
       "      <td>Antony</td>\n",
       "      <td>92160</td>\n",
       "      <td>5</td>\n",
       "      <td>10</td>\n",
       "      <td>moyen</td>\n",
       "      <td>0</td>\n",
       "      <td>oui</td>\n",
       "      <td>...</td>\n",
       "      <td>robinet</td>\n",
       "      <td>0</td>\n",
       "      <td>non</td>\n",
       "      <td>automatique</td>\n",
       "      <td>0</td>\n",
       "      <td>non</td>\n",
       "      <td>non</td>\n",
       "      <td>0</td>\n",
       "      <td>non</td>\n",
       "      <td>bouteille</td>\n",
       "    </tr>\n",
       "  </tbody>\n",
       "</table>\n",
       "<p>5 rows × 31 columns</p>\n",
       "</div>"
      ],
      "text/plain": [
       "                          mail  age   sexe       ville     cp  freqDouche  \\\n",
       "id                                                                          \n",
       "737  falory.edouard@hotmail.fr   16  femme       Paris  75013          14   \n",
       "738     helene-volu@hotmail.fr   25  femme      Paris   75020           2   \n",
       "739     crisi@club-internet.fr   35  femme  Chatillon   92320          14   \n",
       "740       boby.tang@hotmail.fr   22  homme  Villepinte  93420           7   \n",
       "741        oy.youcef@gmail.com   36  homme      Antony  92160           5   \n",
       "\n",
       "     tempsDouche debitDouche  freqBain rempBain    ...      eauPlante  \\\n",
       "id                                                 ...                  \n",
       "737            5       moyen         0      oui    ...        robinet   \n",
       "738           50       moyen        10      oui    ...        robinet   \n",
       "739            7       moyen         0      oui    ...        robinet   \n",
       "740           12       moyen         0      oui    ...        robinet   \n",
       "741           10       moyen         0      oui    ...        robinet   \n",
       "\n",
       "    freqPlante  voiture  methVoiture freqVoiture  piscine  freqPiscine  \\\n",
       "id                                                                       \n",
       "737          0      non  automatique           0      non          non   \n",
       "738          0      oui  automatique           3      non          non   \n",
       "739          0      oui       manuel           1      non          non   \n",
       "740         10      oui       manuel           0      non          non   \n",
       "741          0      non  automatique           0      non          non   \n",
       "\n",
       "    volumePiscine  etiquette  bouteille  \n",
       "id                                       \n",
       "737             0        oui    robinet  \n",
       "738             0        oui  bouteille  \n",
       "739             0        oui  bouteille  \n",
       "740             0        oui  bouteille  \n",
       "741             0        non  bouteille  \n",
       "\n",
       "[5 rows x 31 columns]"
      ]
     },
     "execution_count": 24,
     "metadata": {},
     "output_type": "execute_result"
    }
   ],
   "source": [
    "df.tail()"
   ]
  },
  {
   "cell_type": "code",
   "execution_count": 15,
   "metadata": {
    "scrolled": true
   },
   "outputs": [
    {
     "name": "stdout",
     "output_type": "stream",
     "text": [
      "<class 'pandas.core.frame.DataFrame'>\n",
      "Int64Index: 202 entries, 69 to 741\n",
      "Data columns (total 30 columns):\n",
      "age               202 non-null int64\n",
      "sexe              202 non-null object\n",
      "ville             202 non-null object\n",
      "cp                202 non-null int64\n",
      "freqDouche        202 non-null int64\n",
      "tempsDouche       202 non-null int64\n",
      "debitDouche       202 non-null object\n",
      "freqBain          202 non-null int64\n",
      "rempBain          201 non-null object\n",
      "freqDents         202 non-null int64\n",
      "eauDents          202 non-null object\n",
      "freqVaisselle     202 non-null int64\n",
      "choixVaisselle    202 non-null object\n",
      "methVaisselle     202 non-null object\n",
      "couvVaisselle     202 non-null int64\n",
      "freqMal           202 non-null int64\n",
      "dateMal           202 non-null object\n",
      "ecoeau            202 non-null int64\n",
      "plante            202 non-null object\n",
      "momentPlante      202 non-null object\n",
      "eauPlante         202 non-null object\n",
      "freqPlante        202 non-null int64\n",
      "voiture           202 non-null object\n",
      "methVoiture       202 non-null object\n",
      "freqVoiture       202 non-null int64\n",
      "piscine           202 non-null object\n",
      "freqPiscine       202 non-null object\n",
      "volumePiscine     202 non-null int64\n",
      "etiquette         202 non-null object\n",
      "bouteille         202 non-null object\n",
      "dtypes: int64(13), object(17)\n",
      "memory usage: 48.9+ KB\n"
     ]
    }
   ],
   "source": [
    "df.info()"
   ]
  },
  {
   "cell_type": "code",
   "execution_count": 25,
   "metadata": {},
   "outputs": [
    {
     "name": "stdout",
     "output_type": "stream",
     "text": [
      "Le dataset comporte 201 samples et 31 variables.\n"
     ]
    }
   ],
   "source": [
    "print(\"Le dataset comporte {} samples et {} variables.\".format(df.shape[0], df.shape[1]))"
   ]
  },
  {
   "cell_type": "code",
   "execution_count": 17,
   "metadata": {
    "scrolled": true
   },
   "outputs": [
    {
     "data": {
      "text/plain": [
       "['age',\n",
       " 'sexe',\n",
       " 'ville',\n",
       " 'cp',\n",
       " 'freqDouche',\n",
       " 'tempsDouche',\n",
       " 'debitDouche',\n",
       " 'freqBain',\n",
       " 'rempBain',\n",
       " 'freqDents',\n",
       " 'eauDents',\n",
       " 'freqVaisselle',\n",
       " 'choixVaisselle',\n",
       " 'methVaisselle',\n",
       " 'couvVaisselle',\n",
       " 'freqMal',\n",
       " 'dateMal',\n",
       " 'ecoeau',\n",
       " 'plante',\n",
       " 'momentPlante',\n",
       " 'eauPlante',\n",
       " 'freqPlante',\n",
       " 'voiture',\n",
       " 'methVoiture',\n",
       " 'freqVoiture',\n",
       " 'piscine',\n",
       " 'freqPiscine',\n",
       " 'volumePiscine',\n",
       " 'etiquette',\n",
       " 'bouteille']"
      ]
     },
     "execution_count": 17,
     "metadata": {},
     "output_type": "execute_result"
    }
   ],
   "source": [
    "df_col = df.columns.tolist()\n",
    "df_col"
   ]
  },
  {
   "cell_type": "code",
   "execution_count": 38,
   "metadata": {},
   "outputs": [
    {
     "data": {
      "text/plain": [
       "<matplotlib.axes._subplots.AxesSubplot at 0x1a1ca29390>"
      ]
     },
     "execution_count": 38,
     "metadata": {},
     "output_type": "execute_result"
    },
    {
     "data": {
      "image/png": "[encoded data removed]",
      "text/plain": [
       "<Figure size 432x288 with 1 Axes>"
      ]
     },
     "metadata": {
      "needs_background": "light"
     },
     "output_type": "display_data"
    }
   ],
   "source": [
    "df.freqDouche.plot.hist(12)"
   ]
  },
  {
   "cell_type": "code",
   "execution_count": 37,
   "metadata": {},
   "outputs": [
    {
     "data": {
      "text/plain": [
       "<matplotlib.axes._subplots.AxesSubplot at 0x1a1c876048>"
      ]
     },
     "execution_count": 37,
     "metadata": {},
     "output_type": "execute_result"
    },
    {
     "data": {
      "image/png": "[encoded data removed]",
      "text/plain": [
       "<Figure size 432x288 with 1 Axes>"
      ]
     },
     "metadata": {
      "needs_background": "light"
     },
     "output_type": "display_data"
    }
   ],
   "source": [
    "sns.countplot(x=\"tempsDouche\", hue=\"sexe\", data=df)"
   ]
  },
  {
   "cell_type": "code",
   "execution_count": 62,
   "metadata": {},
   "outputs": [
    {
     "data": {
      "text/plain": [
       "<seaborn.axisgrid.FacetGrid at 0x1a1d3d2f98>"
      ]
     },
     "execution_count": 62,
     "metadata": {},
     "output_type": "execute_result"
    },
    {
     "data": {
      "image/png": "[encoded data removed]",
      "text/plain": [
       "<Figure size 360x360 with 1 Axes>"
      ]
     },
     "metadata": {
      "needs_background": "light"
     },
     "output_type": "display_data"
    }
   ],
   "source": [
    "sns.catplot(x=\"sexe\", y=\"tempsDouche\", data=df, kind=\"box\")"
   ]
  },
  {
   "cell_type": "code",
   "execution_count": 40,
   "metadata": {},
   "outputs": [
    {
     "data": {
      "text/plain": [
       "<matplotlib.axes._subplots.AxesSubplot at 0x1a1ca212e8>"
      ]
     },
     "execution_count": 40,
     "metadata": {},
     "output_type": "execute_result"
    },
    {
     "data": {
      "image/png": "[encoded data removed]",
      "text/plain": [
       "<Figure size 432x288 with 1 Axes>"
      ]
     },
     "metadata": {
      "needs_background": "light"
     },
     "output_type": "display_data"
    }
   ],
   "source": [
    "df.debitDouche.value_counts().plot.bar()"
   ]
  },
  {
   "cell_type": "code",
   "execution_count": 41,
   "metadata": {},
   "outputs": [
    {
     "data": {
      "text/plain": [
       "<matplotlib.axes._subplots.AxesSubplot at 0x1a1ccbe518>"
      ]
     },
     "execution_count": 41,
     "metadata": {},
     "output_type": "execute_result"
    },
    {
     "data": {
      "image/png": "[encoded data removed]",
      "text/plain": [
       "<Figure size 432x288 with 1 Axes>"
      ]
     },
     "metadata": {
      "needs_background": "light"
     },
     "output_type": "display_data"
    }
   ],
   "source": [
    "df.freqBain.value_counts().plot.bar()"
   ]
  },
  {
   "cell_type": "code",
   "execution_count": 76,
   "metadata": {},
   "outputs": [
    {
     "data": {
      "image/png": "[encoded data removed]",
      "text/plain": [
       "<Figure size 432x288 with 1 Axes>"
      ]
     },
     "metadata": {},
     "output_type": "display_data"
    }
   ],
   "source": [
    "temp1 = df['freqBain'].count()\n",
    "temp2 = df[df['freqBain'] == 0]['freqBain'].count()\n",
    "temp3 = df[df['freqBain'] != 0]['freqBain'].count()\n",
    "\n",
    "plt.pie([temp2/temp1*100, temp3/temp1*100], explode=(0, 0), labels=['Ne prend pas de bain', 'Prend au moins un bain'], autopct='%1.1f%%')\n",
    "plt.axis('equal')\n",
    "plt.show()"
   ]
  },
  {
   "cell_type": "code",
   "execution_count": 58,
   "metadata": {},
   "outputs": [
    {
     "data": {
      "text/plain": [
       "<matplotlib.axes._subplots.AxesSubplot at 0x1a1d3da828>"
      ]
     },
     "execution_count": 58,
     "metadata": {},
     "output_type": "execute_result"
    },
    {
     "data": {
      "image/png": "[encoded data removed]",
      "text/plain": [
       "<Figure size 432x288 with 1 Axes>"
      ]
     },
     "metadata": {
      "needs_background": "light"
     },
     "output_type": "display_data"
    }
   ],
   "source": [
    "df[df['freqBain'] != 0]['rempBain'].value_counts().plot.bar()"
   ]
  },
  {
   "cell_type": "code",
   "execution_count": 60,
   "metadata": {
    "scrolled": true
   },
   "outputs": [
    {
     "data": {
      "text/plain": [
       "<matplotlib.axes._subplots.AxesSubplot at 0x1a1d6e0630>"
      ]
     },
     "execution_count": 60,
     "metadata": {},
     "output_type": "execute_result"
    },
    {
     "data": {
      "image/png": "[encoded data removed]",
      "text/plain": [
       "<Figure size 432x288 with 1 Axes>"
      ]
     },
     "metadata": {
      "needs_background": "light"
     },
     "output_type": "display_data"
    }
   ],
   "source": [
    "df.freqDents.value_counts().plot.bar()"
   ]
  },
  {
   "cell_type": "code",
   "execution_count": 61,
   "metadata": {},
   "outputs": [
    {
     "data": {
      "text/plain": [
       "<matplotlib.axes._subplots.AxesSubplot at 0x1a1d7e29e8>"
      ]
     },
     "execution_count": 61,
     "metadata": {},
     "output_type": "execute_result"
    },
    {
     "data": {
      "image/png": "[encoded data removed]",
      "text/plain": [
       "<Figure size 432x288 with 1 Axes>"
      ]
     },
     "metadata": {
      "needs_background": "light"
     },
     "output_type": "display_data"
    }
   ],
   "source": [
    "df.eauDents.value_counts().plot.bar()"
   ]
  },
  {
   "cell_type": "code",
   "execution_count": 63,
   "metadata": {},
   "outputs": [
    {
     "data": {
      "text/plain": [
       "<matplotlib.axes._subplots.AxesSubplot at 0x1a1da5f0b8>"
      ]
     },
     "execution_count": 63,
     "metadata": {},
     "output_type": "execute_result"
    },
    {
     "data": {
      "image/png": "[encoded data removed]",
      "text/plain": [
       "<Figure size 432x288 with 1 Axes>"
      ]
     },
     "metadata": {
      "needs_background": "light"
     },
     "output_type": "display_data"
    }
   ],
   "source": [
    "df.voiture.value_counts().plot.bar()"
   ]
  },
  {
   "cell_type": "code",
   "execution_count": 64,
   "metadata": {},
   "outputs": [
    {
     "data": {
      "text/plain": [
       "<matplotlib.axes._subplots.AxesSubplot at 0x1a1db265c0>"
      ]
     },
     "execution_count": 64,
     "metadata": {},
     "output_type": "execute_result"
    },
    {
     "data": {
      "image/png": "[encoded data removed]",
      "text/plain": [
       "<Figure size 432x288 with 1 Axes>"
      ]
     },
     "metadata": {
      "needs_background": "light"
     },
     "output_type": "display_data"
    }
   ],
   "source": [
    "df[df['voiture'] == 'oui'].methVoiture.value_counts().plot.bar()"
   ]
  },
  {
   "cell_type": "code",
   "execution_count": 67,
   "metadata": {},
   "outputs": [
    {
     "data": {
      "text/plain": [
       "<matplotlib.axes._subplots.AxesSubplot at 0x1a1dc83160>"
      ]
     },
     "execution_count": 67,
     "metadata": {},
     "output_type": "execute_result"
    },
    {
     "data": {
      "image/png": "[encoded data removed]",
      "text/plain": [
       "<Figure size 432x288 with 1 Axes>"
      ]
     },
     "metadata": {
      "needs_background": "light"
     },
     "output_type": "display_data"
    }
   ],
   "source": [
    "df[df['voiture'] == 'oui'].freqVoiture.plot.hist(8)"
   ]
  },
  {
   "cell_type": "code",
   "execution_count": 68,
   "metadata": {},
   "outputs": [
    {
     "data": {
      "text/plain": [
       "<matplotlib.axes._subplots.AxesSubplot at 0x1a1dede668>"
      ]
     },
     "execution_count": 68,
     "metadata": {},
     "output_type": "execute_result"
    },
    {
     "data": {
      "image/png": "[encoded data removed]",
      "text/plain": [
       "<Figure size 432x288 with 1 Axes>"
      ]
     },
     "metadata": {
      "needs_background": "light"
     },
     "output_type": "display_data"
    }
   ],
   "source": [
    "df.piscine.value_counts().plot.bar()"
   ]
  },
  {
   "cell_type": "code",
   "execution_count": 69,
   "metadata": {},
   "outputs": [
    {
     "data": {
      "text/plain": [
       "<matplotlib.axes._subplots.AxesSubplot at 0x1a1e055400>"
      ]
     },
     "execution_count": 69,
     "metadata": {},
     "output_type": "execute_result"
    },
    {
     "data": {
      "image/png": "[encoded data removed]",
      "text/plain": [
       "<Figure size 432x288 with 1 Axes>"
      ]
     },
     "metadata": {
      "needs_background": "light"
     },
     "output_type": "display_data"
    }
   ],
   "source": [
    "df[df['piscine'] == 'oui'].freqPiscine.value_counts().plot.bar()"
   ]
  },
  {
   "cell_type": "code",
   "execution_count": 75,
   "metadata": {},
   "outputs": [
    {
     "data": {
      "text/plain": [
       "<matplotlib.axes._subplots.AxesSubplot at 0x1a1e56e128>"
      ]
     },
     "execution_count": 75,
     "metadata": {},
     "output_type": "execute_result"
    },
    {
     "data": {
      "image/png": "[encoded data removed]",
      "text/plain": [
       "<Figure size 432x288 with 1 Axes>"
      ]
     },
     "metadata": {
      "needs_background": "light"
     },
     "output_type": "display_data"
    }
   ],
   "source": [
    "df[df['piscine'] == 'oui'].volumePiscine.plot.hist(10)"
   ]
  }
 ],
 "metadata": {
  "kernelspec": {
   "display_name": "Python 3",
   "language": "python",
   "name": "python3"
  },
  "language_info": {
   "codemirror_mode": {
    "name": "ipython",
    "version": 3
   },
   "file_extension": ".py",
   "mimetype": "text/x-python",
   "name": "python",
   "nbconvert_exporter": "python",
   "pygments_lexer": "ipython3",
   "version": "3.7.0"
  }
 },
 "nbformat": 4,
 "nbformat_minor": 2
}
